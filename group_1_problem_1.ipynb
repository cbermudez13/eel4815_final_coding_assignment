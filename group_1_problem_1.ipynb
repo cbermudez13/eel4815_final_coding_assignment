{
  "nbformat": 4,
  "nbformat_minor": 0,
  "metadata": {
    "colab": {
      "provenance": [],
      "include_colab_link": true
    },
    "kernelspec": {
      "name": "python3",
      "display_name": "Python 3"
    },
    "language_info": {
      "name": "python"
    }
  },
  "cells": [
    {
      "cell_type": "markdown",
      "metadata": {
        "id": "view-in-github",
        "colab_type": "text"
      },
      "source": [
        "<a href=\"https://colab.research.google.com/github/cbermudez13/eel4815_final_coding_assignment/blob/main/group_1_problem_1.ipynb\" target=\"_parent\"><img src=\"https://colab.research.google.com/assets/colab-badge.svg\" alt=\"Open In Colab\"/></a>"
      ]
    },
    {
      "cell_type": "markdown",
      "source": [
        "This is the second example given in the lecture notes. $h_\\theta(x) = Wx$"
      ],
      "metadata": {
        "id": "wTyJKTvuC9Uq"
      }
    },
    {
      "cell_type": "code",
      "source": [
        "\"\"\"\n",
        "Problem: Build a binary linear classifier by which the weights are updated using gradient descent. \n",
        "\n",
        "Generate a simple dataset D with M=2 labels (with indicies k={1,2}). The data belonging to class 0 (1) is from the Gaussian PDF with mean 0 (1) and variance 1 (1). \n",
        "For each datapoint, use number of features F with indicies i={1,2,...F}. Generate N data points. We use n={1,2,...,N} to index the points.  \n",
        "Generate the corresponding taregt labels using one-hot encoding. We use vector t_n \\in {0,1}^M , for n={1,2,...,N}.  \n",
        "\n",
        "\"\"\""
      ],
      "metadata": {
        "id": "wlg3xyoWDKyQ",
        "colab": {
          "base_uri": "https://localhost:8080/",
          "height": 87
        },
        "outputId": "8b521343-dc4c-48f7-c468-69a5f8a7405f"
      },
      "execution_count": null,
      "outputs": [
        {
          "output_type": "execute_result",
          "data": {
            "text/plain": [
              "'\\nProblem: Build a binary linear classifier by which the weights are updated using gradient descent. \\n\\nGenerate a simple dataset D with M=2 labels (with indicies k={1,2}). The data belonging to class 0 (1) is from the Gaussian PDF with mean 0 (1) and variance 1 (1). \\nFor each datapoint, use number of features F with indicies i={1,2,...F}. Generate N data points. We use n={1,2,...,N} to index the points.  \\nGenerate the corresponding taregt labels using one-hot encoding. We use vector t_n \\\\in {0,1}^M , for n={1,2,...,N}.  \\n\\n'"
            ],
            "application/vnd.google.colaboratory.intrinsic+json": {
              "type": "string"
            }
          },
          "metadata": {},
          "execution_count": 1
        }
      ]
    },
    {
      "cell_type": "code",
      "source": [
        "import numpy as np\n",
        "np.random.seed(seed=5)\n",
        "############ Generate simple dataset with M=2\n",
        "number_of_classes_M = 2\n",
        "number_of_features_F = 5\n",
        "number_of_points_N   = 1000\n",
        "data = []\n",
        "for index in range(number_of_points_N):\n",
        "    random_choice_for_mean = np.random.choice([0,1])\n",
        "    tru_lbl = random_choice_for_mean\n",
        "\n",
        "    if tru_lbl == 0:\n",
        "        one_hot_rep = [1,0]\n",
        "        mean = 0\n",
        "    if tru_lbl == 1:\n",
        "        one_hot_rep = [0,1]\n",
        "        mean = 0.1\n",
        "\n",
        "    mean = random_choice_for_mean\n",
        "\n",
        "    data.append((np.random.normal(loc=mean, scale=1, size=(number_of_features_F)), one_hot_rep))"
      ],
      "metadata": {
        "id": "mUzglVUpDept"
      },
      "execution_count": null,
      "outputs": []
    },
    {
      "cell_type": "code",
      "source": [
        "############ Generate the intial weights matrix (size M \\times F)\n",
        "weights = np.random.uniform(low=-1, high=1, size=(number_of_classes_M, number_of_features_F))"
      ],
      "metadata": {
        "id": "1lA8EYFpDrqq"
      },
      "execution_count": null,
      "outputs": []
    },
    {
      "cell_type": "code",
      "source": [
        "############ Obtain the error function w.r.t. all data points.\n",
        "def errof_wrt_all_datapoints(data, weights):\n",
        "\n",
        "    error_fun_wrt_weights_per_point = []\n",
        "\n",
        "    for data_point_index in range(number_of_points_N):\n",
        "\n",
        "        NW_output = np.matmul(weights, data[data_point_index][0])\n",
        "\n",
        "        error =0.5*np.sum((NW_output - data[data_point_index][1])**2)\n",
        "\n",
        "        error_fun_wrt_weights_per_point.append(error)\n",
        "\n",
        "        #print(error)\n",
        "\n",
        "    error_fun_wrt_weights_all_datapoints = sum(error_fun_wrt_weights_per_point)\n",
        "    return error_fun_wrt_weights_all_datapoints"
      ],
      "metadata": {
        "id": "96iTz2VAD5ib"
      },
      "execution_count": null,
      "outputs": []
    },
    {
      "cell_type": "code",
      "source": [
        "########### Obtain the gradients. These will be computed for all data points and out into a matrix. This matrix will be used to update the weight when we implement the Gradient Descent.\n",
        "def gradient_matrix(data, weights):\n",
        "\n",
        "    grad_all = np.zeros(shape=(number_of_classes_M, number_of_features_F, number_of_points_N))\n",
        "\n",
        "    for data_point_index in range(number_of_points_N):\n",
        "        NW_output = np.matmul(weights, data[data_point_index][0])\n",
        "        tru_output = data[data_point_index][1]\n",
        "        training_vec = data[data_point_index][0]\n",
        "        for feature_index in range(number_of_features_F):\n",
        "            for class_index in range(number_of_classes_M):\n",
        "                #sum_temp.append((NW_output[class_index] - tru_output[class_index])*training_vec[feature_index])\n",
        "\n",
        "                grad_all[class_index, feature_index, data_point_index] = (NW_output[class_index] - tru_output[class_index])*training_vec[feature_index]\n",
        "                #grad_all[class_index, feature_index, data_point_index] = (NW_output[class_index] - tru_output[class_index])\n",
        "\n",
        "\n",
        "    grad_matrix = np.zeros(shape=(number_of_classes_M, number_of_features_F))\n",
        "\n",
        "    for feature_index in range(number_of_features_F):\n",
        "        for class_index in range(number_of_classes_M):\n",
        "            grad_matrix[class_index, feature_index] = np.sum(grad_all[class_index, feature_index, :])\n",
        "\n",
        "    return grad_matrix"
      ],
      "metadata": {
        "id": "s_t4c-8BD7m2"
      },
      "execution_count": null,
      "outputs": []
    },
    {
      "cell_type": "code",
      "source": [
        "######## gradient descent loop:\n",
        "number_of_iterations = 50\n",
        "step_size_eta = 0.00005\n",
        "\n",
        "CA_save = []\n",
        "MSE_save = []\n",
        "\n",
        "for iter in range(number_of_iterations):\n",
        "\n",
        "    grad_mat = gradient_matrix(data, weights)\n",
        "\n",
        "    weights = weights - (step_size_eta * grad_mat)\n",
        "\n",
        "    MSE_err = errof_wrt_all_datapoints(data, weights)\n",
        "\n",
        "    # get the training classification accuracy\n",
        "    ca_cnt = 0\n",
        "    for data_point_index in range(number_of_points_N):\n",
        "        NW_output = np.matmul(weights, data[data_point_index][0])\n",
        "        pred_class = np.argmax(NW_output)\n",
        "        tru_class = np.argmax(data[data_point_index][1])\n",
        "        if pred_class == tru_class:\n",
        "            ca_cnt = ca_cnt + 1\n",
        "\n",
        "    print(\"iteration {} - MSE = {} - training CA {}\".format(iter, MSE_err, 100*ca_cnt/number_of_points_N))\n",
        "\n",
        "    CA_save.append(100*ca_cnt/number_of_points_N)\n",
        "    MSE_save.append(MSE_err)\n",
        "    "
      ],
      "metadata": {
        "colab": {
          "base_uri": "https://localhost:8080/"
        },
        "id": "f943ZeBZEEhk",
        "outputId": "41302528-7f2c-408b-da56-f048f8deb0f7"
      },
      "execution_count": null,
      "outputs": [
        {
          "output_type": "stream",
          "name": "stdout",
          "text": [
            "iteration 0 - MSE = 3744.4656108132967 - training CA 27.2\n",
            "iteration 1 - MSE = 2775.657297946446 - training CA 27.8\n",
            "iteration 2 - MSE = 2110.927451378965 - training CA 29.7\n",
            "iteration 3 - MSE = 1651.2867500185098 - training CA 31.3\n",
            "iteration 4 - MSE = 1330.3470990517803 - training CA 33.4\n",
            "iteration 5 - MSE = 1103.5460851903115 - training CA 38.0\n",
            "iteration 6 - MSE = 940.9369597396408 - training CA 42.7\n",
            "iteration 7 - MSE = 822.3639491257964 - training CA 47.3\n",
            "iteration 8 - MSE = 734.2333831822891 - training CA 51.5\n",
            "iteration 9 - MSE = 667.3524847042366 - training CA 55.3\n",
            "iteration 10 - MSE = 615.4824968842652 - training CA 58.0\n",
            "iteration 11 - MSE = 574.3697808268316 - training CA 60.6\n",
            "iteration 12 - MSE = 541.0967537704012 - training CA 62.8\n",
            "iteration 13 - MSE = 513.646877221923 - training CA 63.9\n",
            "iteration 14 - MSE = 490.6129170278148 - training CA 65.6\n",
            "iteration 15 - MSE = 471.00112010214053 - training CA 66.7\n",
            "iteration 16 - MSE = 454.0996219515624 - training CA 67.1\n",
            "iteration 17 - MSE = 439.3898819337512 - training CA 68.2\n",
            "iteration 18 - MSE = 426.486956327742 - training CA 69.2\n",
            "iteration 19 - MSE = 415.09911134850086 - training CA 69.8\n",
            "iteration 20 - MSE = 405.00041754205563 - training CA 70.9\n",
            "iteration 21 - MSE = 396.01206753612047 - training CA 71.3\n",
            "iteration 22 - MSE = 387.98956472827876 - training CA 72.1\n",
            "iteration 23 - MSE = 380.81387118177514 - training CA 72.1\n",
            "iteration 24 - MSE = 374.38523263846963 - training CA 72.8\n",
            "iteration 25 - MSE = 368.61882008531825 - training CA 73.4\n",
            "iteration 26 - MSE = 363.441609587252 - training CA 73.7\n",
            "iteration 27 - MSE = 358.7901111942913 - training CA 73.7\n",
            "iteration 28 - MSE = 354.60868446492674 - training CA 73.7\n",
            "iteration 29 - MSE = 350.84826314132476 - training CA 74.1\n",
            "iteration 30 - MSE = 347.46536856125954 - training CA 74.4\n",
            "iteration 31 - MSE = 344.42132972799857 - training CA 74.4\n",
            "iteration 32 - MSE = 341.68165375999416 - training CA 74.4\n",
            "iteration 33 - MSE = 339.215507841239 - training CA 74.8\n",
            "iteration 34 - MSE = 336.9952855576087 - training CA 75.0\n",
            "iteration 35 - MSE = 334.9962384869767 - training CA 75.3\n",
            "iteration 36 - MSE = 333.19615935188557 - training CA 75.2\n",
            "iteration 37 - MSE = 331.5751067741088 - training CA 75.6\n",
            "iteration 38 - MSE = 330.1151642475509 - training CA 75.8\n",
            "iteration 39 - MSE = 328.80022774311004 - training CA 75.6\n",
            "iteration 40 - MSE = 327.6158176271403 - training CA 75.6\n",
            "iteration 41 - MSE = 326.5489114823894 - training CA 75.8\n",
            "iteration 42 - MSE = 325.58779508032364 - training CA 75.8\n",
            "iteration 43 - MSE = 324.7219292428053 - training CA 76.0\n",
            "iteration 44 - MSE = 323.94183070115486 - training CA 76.2\n",
            "iteration 45 - MSE = 323.2389653464913 - training CA 76.2\n",
            "iteration 46 - MSE = 322.6056524911161 - training CA 76.3\n",
            "iteration 47 - MSE = 322.03497894270305 - training CA 76.1\n",
            "iteration 48 - MSE = 321.52072184274823 - training CA 76.1\n",
            "iteration 49 - MSE = 321.05727934581853 - training CA 76.3\n"
          ]
        }
      ]
    },
    {
      "cell_type": "code",
      "source": [
        "import matplotlib as mpl\n",
        "import matplotlib.pyplot as plt\n",
        "import numpy as np\n",
        "\n",
        "# define the axes\n",
        "x_axis = list(range(number_of_iterations))\n",
        "y_axis_CA = CA_save\n",
        "y_axis_MSE = MSE_save\n",
        "\n",
        "fig, axs = plt.subplots(2)\n",
        "fig.suptitle('Total training MSE and the Classification Accuracy.')\n",
        "axs[0].plot(x_axis, y_axis_CA)\n",
        "axs[1].plot(x_axis, y_axis_MSE)\n"
      ],
      "metadata": {
        "colab": {
          "base_uri": "https://localhost:8080/",
          "height": 311
        },
        "id": "_Ljsa0nZEe5P",
        "outputId": "42aa6929-8334-4547-e5d7-c92efd1b4e0a"
      },
      "execution_count": null,
      "outputs": [
        {
          "output_type": "execute_result",
          "data": {
            "text/plain": [
              "[<matplotlib.lines.Line2D at 0x7f6c94c6df90>]"
            ]
          },
          "metadata": {},
          "execution_count": 8
        },
        {
          "output_type": "display_data",
          "data": {
            "text/plain": [
              "<Figure size 432x288 with 2 Axes>"
            ],
            "image/png": "[encoded data removed]"
          },
          "metadata": {
            "needs_background": "light"
          }
        }
      ]
    }
  ]
}
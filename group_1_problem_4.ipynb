{
  "nbformat": 4,
  "nbformat_minor": 0,
  "metadata": {
    "colab": {
      "provenance": [],
      "authorship_tag": "ABX9TyNwf3tEhyKO2PVntp6RBuxq",
      "include_colab_link": true
    },
    "kernelspec": {
      "name": "python3",
      "display_name": "Python 3"
    },
    "language_info": {
      "name": "python"
    },
    "accelerator": "GPU",
    "gpuClass": "standard"
  },
  "cells": [
    {
      "cell_type": "markdown",
      "metadata": {
        "id": "view-in-github",
        "colab_type": "text"
      },
      "source": [
        "<a href=\"https://colab.research.google.com/github/cbermudez13/eel4815_final_coding_assignment/blob/main/group_1_problem_4.ipynb\" target=\"_parent\"><img src=\"https://colab.research.google.com/assets/colab-badge.svg\" alt=\"Open In Colab\"/></a>"
      ]
    },
    {
      "cell_type": "code",
      "execution_count": 2,
      "metadata": {
        "id": "a7-9LdLbH0b9",
        "colab": {
          "base_uri": "https://localhost:8080/"
        },
        "outputId": "51ceaf24-8a95-4f9a-e248-d70e789fa017"
      },
      "outputs": [
        {
          "output_type": "stream",
          "name": "stdout",
          "text": [
            "Downloading data from https://storage.googleapis.com/tensorflow/tf-keras-datasets/train-labels-idx1-ubyte.gz\n",
            "29515/29515 [==============================] - 0s 0us/step\n",
            "Downloading data from https://storage.googleapis.com/tensorflow/tf-keras-datasets/train-images-idx3-ubyte.gz\n",
            "26421880/26421880 [==============================] - 2s 0us/step\n",
            "Downloading data from https://storage.googleapis.com/tensorflow/tf-keras-datasets/t10k-labels-idx1-ubyte.gz\n",
            "5148/5148 [==============================] - 0s 0us/step\n",
            "Downloading data from https://storage.googleapis.com/tensorflow/tf-keras-datasets/t10k-images-idx3-ubyte.gz\n",
            "4422102/4422102 [==============================] - 0s 0us/step\n"
          ]
        }
      ],
      "source": [
        "import tensorflow as tf\n",
        "from tensorflow.keras import layers\n",
        "import numpy as np\n",
        "import matplotlib.pyplot as plt\n",
        "from keras.utils import to_categorical\n",
        "from sklearn.model_selection import GridSearchCV\n",
        "from tensorflow.keras.models import Sequential\n",
        "from tensorflow.keras.layers import Dense\n",
        "from keras.datasets import fashion_mnist\n",
        "(train_X, train_Y), (test_X, test_Y) = fashion_mnist.load_data()\n",
        "tf.keras.datasets.fashion_mnist.load_data()\n",
        "\n",
        "number_of_feature = 784\n",
        "number_of_units_in_hidden_layer = 60000\n",
        "\n",
        "##feature extraction, with classification \n"
      ]
    },
    {
      "cell_type": "code",
      "source": [
        "%matplotlib inLine\n",
        "\n",
        "print('Training data shape: ', train_X.shape, train_Y.shape)\n",
        "\n",
        "print('Testing data shape: ', test_X.shape, test_Y.shape)"
      ],
      "metadata": {
        "colab": {
          "base_uri": "https://localhost:8080/"
        },
        "id": "nTUK_P0h4g0l",
        "outputId": "a09d452b-449a-4e94-bb83-d3972ebf43cb"
      },
      "execution_count": 3,
      "outputs": [
        {
          "output_type": "stream",
          "name": "stdout",
          "text": [
            "Training data shape:  (60000, 28, 28) (60000,)\n",
            "Testing data shape:  (10000, 28, 28) (10000,)\n"
          ]
        }
      ]
    },
    {
      "cell_type": "code",
      "source": [
        "# Find the unique numbers from the train labels\n",
        "classes = np.unique(train_Y)\n",
        "nClasses = len(classes)\n",
        "print('Total number of outputs : ', nClasses)\n",
        "print('Output classes : ', classes)"
      ],
      "metadata": {
        "colab": {
          "base_uri": "https://localhost:8080/"
        },
        "id": "EDpqnzzX7yNv",
        "outputId": "b6f9152c-eb4c-43ce-8c7a-20bc3cc571c7"
      },
      "execution_count": 4,
      "outputs": [
        {
          "output_type": "stream",
          "name": "stdout",
          "text": [
            "Total number of outputs :  10\n",
            "Output classes :  [0 1 2 3 4 5 6 7 8 9]\n"
          ]
        }
      ]
    },
    {
      "cell_type": "code",
      "source": [
        "plt.figure(figsize=[5,5])\n",
        "\n",
        "# Display the first image in training data\n",
        "plt.subplot(121)\n",
        "plt.imshow(train_X[0,:,:], cmap='gray')\n",
        "plt.title(\"Ground Truth : {}\".format(train_Y[0]))\n",
        "\n",
        "# Display the first image in testing data\n",
        "plt.subplot(122)\n",
        "plt.imshow(test_X[0,:,:], cmap='gray')\n",
        "plt.title(\"Ground Truth : {}\".format(test_Y[0]))"
      ],
      "metadata": {
        "colab": {
          "base_uri": "https://localhost:8080/",
          "height": 209
        },
        "id": "qYdLBhVa8IJh",
        "outputId": "35e7bda7-2e0b-4b57-c02e-1a2d09ac4c89"
      },
      "execution_count": 5,
      "outputs": [
        {
          "output_type": "execute_result",
          "data": {
            "text/plain": [
              "Text(0.5, 1.0, 'Ground Truth : 9')"
            ]
          },
          "metadata": {},
          "execution_count": 5
        },
        {
          "output_type": "display_data",
          "data": {
            "text/plain": [
              "<Figure size 360x360 with 2 Axes>"
            ],
            "image/png": "[encoded data removed]"
          },
          "metadata": {
            "needs_background": "light"
          }
        }
      ]
    },
    {
      "cell_type": "code",
      "source": [
        "train_X = train_X.reshape(-1, 28,28, 1)\n",
        "test_X = test_X.reshape(-1, 28,28, 1)\n",
        "train_X.shape, test_X.shape\n"
      ],
      "metadata": {
        "colab": {
          "base_uri": "https://localhost:8080/"
        },
        "id": "5ui8RpnX8Nf0",
        "outputId": "e2c66c5b-c018-425d-d23a-60c8524f9a0a"
      },
      "execution_count": 6,
      "outputs": [
        {
          "output_type": "execute_result",
          "data": {
            "text/plain": [
              "((60000, 28, 28, 1), (10000, 28, 28, 1))"
            ]
          },
          "metadata": {},
          "execution_count": 6
        }
      ]
    },
    {
      "cell_type": "code",
      "source": [
        "train_X = train_X.astype('float32')\n",
        "test_X = test_X.astype('float32')\n",
        "train_X = train_X / 255.\n",
        "test_X = test_X / 255."
      ],
      "metadata": {
        "id": "1tp7VRPx8i-f"
      },
      "execution_count": 7,
      "outputs": []
    },
    {
      "cell_type": "code",
      "source": [
        "# Change the labels from categorical to one-hot encoding\n",
        "train_Y_one_hot = to_categorical(train_Y)\n",
        "test_Y_one_hot = to_categorical(test_Y)\n",
        "\n",
        "# Display the change for category label using one-hot encoding\n",
        "print('Original label:', train_Y[0])\n",
        "print('After conversion to one-hot:', train_Y_one_hot[0])"
      ],
      "metadata": {
        "colab": {
          "base_uri": "https://localhost:8080/"
        },
        "id": "kClVp9Uu8t33",
        "outputId": "04d2c710-03cd-490b-d5de-199761a17c23"
      },
      "execution_count": 8,
      "outputs": [
        {
          "output_type": "stream",
          "name": "stdout",
          "text": [
            "Original label: 9\n",
            "After conversion to one-hot: [0. 0. 0. 0. 0. 0. 0. 0. 0. 1.]\n"
          ]
        }
      ]
    },
    {
      "cell_type": "code",
      "source": [
        "from sklearn.model_selection import train_test_split\n",
        "train_X,valid_X,train_label,valid_label = train_test_split(train_X, train_Y_one_hot, test_size=0.2, random_state=13)\n"
      ],
      "metadata": {
        "id": "tioaWGtz80Yk"
      },
      "execution_count": 9,
      "outputs": []
    },
    {
      "cell_type": "code",
      "source": [
        "train_X.shape,valid_X.shape,train_label.shape,valid_label.shape\n"
      ],
      "metadata": {
        "colab": {
          "base_uri": "https://localhost:8080/"
        },
        "id": "hHDKxXT186Ug",
        "outputId": "db169df3-4f00-426d-dcff-bc5501f1fbc3"
      },
      "execution_count": 10,
      "outputs": [
        {
          "output_type": "execute_result",
          "data": {
            "text/plain": [
              "((48000, 28, 28, 1), (12000, 28, 28, 1), (48000, 10), (12000, 10))"
            ]
          },
          "metadata": {},
          "execution_count": 10
        }
      ]
    },
    {
      "cell_type": "code",
      "source": [
        "import keras\n",
        "from tensorflow.python.keras.models import Input\n",
        "from keras.models import Sequential,Model\n",
        "from keras.layers import Dense, Dropout, Flatten\n",
        "from keras.layers import Conv2D, MaxPooling2D\n",
        "from tensorflow.keras.layers import BatchNormalization\n",
        "from keras.layers import LeakyReLU\n"
      ],
      "metadata": {
        "id": "5dirkJG09mcq"
      },
      "execution_count": 11,
      "outputs": []
    },
    {
      "cell_type": "code",
      "source": [
        "batch_size = 100\n",
        "epochs = 40\n",
        "num_classes = 10\n"
      ],
      "metadata": {
        "id": "IWFegoG_Cste"
      },
      "execution_count": 12,
      "outputs": []
    },
    {
      "cell_type": "code",
      "source": [
        "fashion_model = Sequential()\n",
        "fashion_model.add(Conv2D(128, kernel_size=(3, 3),activation='linear',input_shape=(28,28,1),padding='same'))\n",
        "fashion_model.add(LeakyReLU(alpha=0.1))\n",
        "fashion_model.add(MaxPooling2D((4, 4),padding='same'))\n",
        "fashion_model.add(Conv2D(128, (3, 3), activation='linear',padding='same'))\n",
        "fashion_model.add(LeakyReLU(alpha=0.1))\n",
        "fashion_model.add(MaxPooling2D(pool_size=(4, 4),padding='same'))\n",
        "fashion_model.add(Conv2D(128, (3, 3), activation='linear',padding='same'))\n",
        "fashion_model.add(LeakyReLU(alpha=0.1))                  \n",
        "fashion_model.add(MaxPooling2D(pool_size=(4, 4),padding='same'))\n",
        "fashion_model.add(Flatten())\n",
        "fashion_model.add(Dense(128, activation='linear'))\n",
        "fashion_model.add(LeakyReLU(alpha=0.1))                  \n",
        "fashion_model.add(Dense(num_classes, activation='softmax'))\n"
      ],
      "metadata": {
        "id": "SE6MKmsc-L58"
      },
      "execution_count": 13,
      "outputs": []
    },
    {
      "cell_type": "code",
      "source": [
        "fashion_model.compile(loss=keras.losses.categorical_crossentropy, optimizer=keras.optimizers.Adam(),metrics=['accuracy'])\n"
      ],
      "metadata": {
        "id": "RzQeeXPfCYzb"
      },
      "execution_count": 14,
      "outputs": []
    },
    {
      "cell_type": "code",
      "source": [
        "fashion_model.summary()"
      ],
      "metadata": {
        "colab": {
          "base_uri": "https://localhost:8080/"
        },
        "id": "R9D1WSUeC50f",
        "outputId": "6028b286-07f0-40eb-cedd-e090861abe94"
      },
      "execution_count": 15,
      "outputs": [
        {
          "output_type": "stream",
          "name": "stdout",
          "text": [
            "Model: \"sequential\"\n",
            "_________________________________________________________________\n",
            " Layer (type)                Output Shape              Param #   \n",
            "=================================================================\n",
            " conv2d (Conv2D)             (None, 28, 28, 128)       1280      \n",
            "                                                                 \n",
            " leaky_re_lu (LeakyReLU)     (None, 28, 28, 128)       0         \n",
            "                                                                 \n",
            " max_pooling2d (MaxPooling2D  (None, 7, 7, 128)        0         \n",
            " )                                                               \n",
            "                                                                 \n",
            " conv2d_1 (Conv2D)           (None, 7, 7, 128)         147584    \n",
            "                                                                 \n",
            " leaky_re_lu_1 (LeakyReLU)   (None, 7, 7, 128)         0         \n",
            "                                                                 \n",
            " max_pooling2d_1 (MaxPooling  (None, 2, 2, 128)        0         \n",
            " 2D)                                                             \n",
            "                                                                 \n",
            " conv2d_2 (Conv2D)           (None, 2, 2, 128)         147584    \n",
            "                                                                 \n",
            " leaky_re_lu_2 (LeakyReLU)   (None, 2, 2, 128)         0         \n",
            "                                                                 \n",
            " max_pooling2d_2 (MaxPooling  (None, 1, 1, 128)        0         \n",
            " 2D)                                                             \n",
            "                                                                 \n",
            " flatten (Flatten)           (None, 128)               0         \n",
            "                                                                 \n",
            " dense (Dense)               (None, 128)               16512     \n",
            "                                                                 \n",
            " leaky_re_lu_3 (LeakyReLU)   (None, 128)               0         \n",
            "                                                                 \n",
            " dense_1 (Dense)             (None, 10)                1290      \n",
            "                                                                 \n",
            "=================================================================\n",
            "Total params: 314,250\n",
            "Trainable params: 314,250\n",
            "Non-trainable params: 0\n",
            "_________________________________________________________________\n"
          ]
        }
      ]
    },
    {
      "cell_type": "code",
      "source": [
        "fashion_train = fashion_model.fit(train_X, train_label, batch_size=batch_size,epochs=epochs,verbose=1,validation_data=(valid_X, valid_label))\n"
      ],
      "metadata": {
        "colab": {
          "base_uri": "https://localhost:8080/"
        },
        "id": "c6cWjo3IDXWb",
        "outputId": "07fb88b6-9b54-4472-e91e-12caf283fc7c"
      },
      "execution_count": 16,
      "outputs": [
        {
          "output_type": "stream",
          "name": "stdout",
          "text": [
            "Epoch 1/40\n",
            "480/480 [==============================] - 12s 8ms/step - loss: 0.5936 - accuracy: 0.7820 - val_loss: 0.3927 - val_accuracy: 0.8618\n",
            "Epoch 2/40\n",
            "480/480 [==============================] - 4s 7ms/step - loss: 0.3335 - accuracy: 0.8781 - val_loss: 0.3080 - val_accuracy: 0.8876\n",
            "Epoch 3/40\n",
            "480/480 [==============================] - 4s 7ms/step - loss: 0.2824 - accuracy: 0.8972 - val_loss: 0.2820 - val_accuracy: 0.8972\n",
            "Epoch 4/40\n",
            "480/480 [==============================] - 4s 8ms/step - loss: 0.2542 - accuracy: 0.9073 - val_loss: 0.2874 - val_accuracy: 0.8928\n",
            "Epoch 5/40\n",
            "480/480 [==============================] - 4s 9ms/step - loss: 0.2310 - accuracy: 0.9151 - val_loss: 0.2694 - val_accuracy: 0.9004\n",
            "Epoch 6/40\n",
            "480/480 [==============================] - 4s 8ms/step - loss: 0.2098 - accuracy: 0.9238 - val_loss: 0.2417 - val_accuracy: 0.9106\n",
            "Epoch 7/40\n",
            "480/480 [==============================] - 4s 8ms/step - loss: 0.1955 - accuracy: 0.9288 - val_loss: 0.2319 - val_accuracy: 0.9165\n",
            "Epoch 8/40\n",
            "480/480 [==============================] - 4s 8ms/step - loss: 0.1812 - accuracy: 0.9335 - val_loss: 0.2537 - val_accuracy: 0.9134\n",
            "Epoch 9/40\n",
            "480/480 [==============================] - 4s 8ms/step - loss: 0.1680 - accuracy: 0.9387 - val_loss: 0.2344 - val_accuracy: 0.9153\n",
            "Epoch 10/40\n",
            "480/480 [==============================] - 4s 8ms/step - loss: 0.1544 - accuracy: 0.9426 - val_loss: 0.2529 - val_accuracy: 0.9140\n",
            "Epoch 11/40\n",
            "480/480 [==============================] - 4s 8ms/step - loss: 0.1444 - accuracy: 0.9468 - val_loss: 0.2417 - val_accuracy: 0.9177\n",
            "Epoch 12/40\n",
            "480/480 [==============================] - 4s 8ms/step - loss: 0.1300 - accuracy: 0.9514 - val_loss: 0.2354 - val_accuracy: 0.9169\n",
            "Epoch 13/40\n",
            "480/480 [==============================] - 4s 8ms/step - loss: 0.1227 - accuracy: 0.9539 - val_loss: 0.2485 - val_accuracy: 0.9151\n",
            "Epoch 14/40\n",
            "480/480 [==============================] - 4s 7ms/step - loss: 0.1109 - accuracy: 0.9582 - val_loss: 0.2577 - val_accuracy: 0.9195\n",
            "Epoch 15/40\n",
            "480/480 [==============================] - 4s 8ms/step - loss: 0.1048 - accuracy: 0.9614 - val_loss: 0.2484 - val_accuracy: 0.9213\n",
            "Epoch 16/40\n",
            "480/480 [==============================] - 4s 8ms/step - loss: 0.0969 - accuracy: 0.9640 - val_loss: 0.2657 - val_accuracy: 0.9209\n",
            "Epoch 17/40\n",
            "480/480 [==============================] - 4s 8ms/step - loss: 0.0840 - accuracy: 0.9683 - val_loss: 0.2922 - val_accuracy: 0.9176\n",
            "Epoch 18/40\n",
            "480/480 [==============================] - 4s 7ms/step - loss: 0.0782 - accuracy: 0.9708 - val_loss: 0.2879 - val_accuracy: 0.9212\n",
            "Epoch 19/40\n",
            "480/480 [==============================] - 4s 8ms/step - loss: 0.0744 - accuracy: 0.9716 - val_loss: 0.2950 - val_accuracy: 0.9216\n",
            "Epoch 20/40\n",
            "480/480 [==============================] - 4s 7ms/step - loss: 0.0648 - accuracy: 0.9762 - val_loss: 0.3255 - val_accuracy: 0.9203\n",
            "Epoch 21/40\n",
            "480/480 [==============================] - 4s 7ms/step - loss: 0.0588 - accuracy: 0.9775 - val_loss: 0.3494 - val_accuracy: 0.9148\n",
            "Epoch 22/40\n",
            "480/480 [==============================] - 4s 7ms/step - loss: 0.0610 - accuracy: 0.9767 - val_loss: 0.3153 - val_accuracy: 0.9221\n",
            "Epoch 23/40\n",
            "480/480 [==============================] - 4s 8ms/step - loss: 0.0498 - accuracy: 0.9812 - val_loss: 0.3425 - val_accuracy: 0.9203\n",
            "Epoch 24/40\n",
            "480/480 [==============================] - 4s 8ms/step - loss: 0.0501 - accuracy: 0.9808 - val_loss: 0.3584 - val_accuracy: 0.9193\n",
            "Epoch 25/40\n",
            "480/480 [==============================] - 4s 8ms/step - loss: 0.0399 - accuracy: 0.9852 - val_loss: 0.3833 - val_accuracy: 0.9135\n",
            "Epoch 26/40\n",
            "480/480 [==============================] - 4s 8ms/step - loss: 0.0445 - accuracy: 0.9834 - val_loss: 0.3843 - val_accuracy: 0.9216\n",
            "Epoch 27/40\n",
            "480/480 [==============================] - 4s 8ms/step - loss: 0.0401 - accuracy: 0.9857 - val_loss: 0.3888 - val_accuracy: 0.9178\n",
            "Epoch 28/40\n",
            "480/480 [==============================] - 4s 7ms/step - loss: 0.0398 - accuracy: 0.9855 - val_loss: 0.3811 - val_accuracy: 0.9203\n",
            "Epoch 29/40\n",
            "480/480 [==============================] - 4s 8ms/step - loss: 0.0412 - accuracy: 0.9846 - val_loss: 0.4051 - val_accuracy: 0.9207\n",
            "Epoch 30/40\n",
            "480/480 [==============================] - 4s 8ms/step - loss: 0.0359 - accuracy: 0.9869 - val_loss: 0.3942 - val_accuracy: 0.9185\n",
            "Epoch 31/40\n",
            "480/480 [==============================] - 4s 8ms/step - loss: 0.0269 - accuracy: 0.9901 - val_loss: 0.4447 - val_accuracy: 0.9154\n",
            "Epoch 32/40\n",
            "480/480 [==============================] - 4s 8ms/step - loss: 0.0380 - accuracy: 0.9863 - val_loss: 0.4215 - val_accuracy: 0.9201\n",
            "Epoch 33/40\n",
            "480/480 [==============================] - 4s 8ms/step - loss: 0.0295 - accuracy: 0.9889 - val_loss: 0.4166 - val_accuracy: 0.9222\n",
            "Epoch 34/40\n",
            "480/480 [==============================] - 4s 8ms/step - loss: 0.0280 - accuracy: 0.9900 - val_loss: 0.4643 - val_accuracy: 0.9180\n",
            "Epoch 35/40\n",
            "480/480 [==============================] - 4s 9ms/step - loss: 0.0291 - accuracy: 0.9896 - val_loss: 0.4489 - val_accuracy: 0.9176\n",
            "Epoch 36/40\n",
            "480/480 [==============================] - 4s 8ms/step - loss: 0.0256 - accuracy: 0.9905 - val_loss: 0.4774 - val_accuracy: 0.9192\n",
            "Epoch 37/40\n",
            "480/480 [==============================] - 4s 8ms/step - loss: 0.0309 - accuracy: 0.9891 - val_loss: 0.4802 - val_accuracy: 0.9193\n",
            "Epoch 38/40\n",
            "480/480 [==============================] - 4s 8ms/step - loss: 0.0222 - accuracy: 0.9918 - val_loss: 0.5109 - val_accuracy: 0.9144\n",
            "Epoch 39/40\n",
            "480/480 [==============================] - 4s 8ms/step - loss: 0.0265 - accuracy: 0.9900 - val_loss: 0.4904 - val_accuracy: 0.9199\n",
            "Epoch 40/40\n",
            "480/480 [==============================] - 4s 8ms/step - loss: 0.0293 - accuracy: 0.9894 - val_loss: 0.4886 - val_accuracy: 0.9164\n"
          ]
        }
      ]
    },
    {
      "cell_type": "code",
      "source": [
        "test_eval = fashion_model.evaluate(test_X, test_Y_one_hot, verbose=0)\n"
      ],
      "metadata": {
        "id": "ynSwYsOVE7Qj"
      },
      "execution_count": 17,
      "outputs": []
    },
    {
      "cell_type": "code",
      "source": [
        "print('Test loss:', test_eval[0])\n",
        "print('Test accuracy:', test_eval[1])\n"
      ],
      "metadata": {
        "colab": {
          "base_uri": "https://localhost:8080/"
        },
        "id": "f1potyDxE9qT",
        "outputId": "f293f420-dadf-41ef-cba2-be6230eb90b8"
      },
      "execution_count": 18,
      "outputs": [
        {
          "output_type": "stream",
          "name": "stdout",
          "text": [
            "Test loss: 0.5660108923912048\n",
            "Test accuracy: 0.909500002861023\n"
          ]
        }
      ]
    },
    {
      "cell_type": "code",
      "source": [
        "accuracy = fashion_train.history['accuracy']\n",
        "val_accuracy = fashion_train.history['val_accuracy']\n",
        "loss = fashion_train.history['loss']\n",
        "val_loss = fashion_train.history['val_loss']\n",
        "epochs = range(len(accuracy))\n",
        "plt.plot(epochs, accuracy, 'bo', label='Training accuracy')\n",
        "plt.plot(epochs, val_accuracy, 'b', label='Validation accuracy')\n",
        "plt.title('Training and validation accuracy')\n",
        "plt.legend()\n",
        "plt.figure()\n",
        "plt.plot(epochs, loss, 'bo', label='Training loss')\n",
        "plt.plot(epochs, val_loss, 'b', label='Validation loss')\n",
        "plt.title('Training and validation loss')\n",
        "plt.legend()\n",
        "plt.show()\n"
      ],
      "metadata": {
        "colab": {
          "base_uri": "https://localhost:8080/",
          "height": 545
        },
        "id": "fcChuDSMFYGL",
        "outputId": "af4214b1-db15-4363-b8a5-1d65b1454233"
      },
      "execution_count": 22,
      "outputs": [
        {
          "output_type": "display_data",
          "data": {
            "text/plain": [
              "<Figure size 432x288 with 1 Axes>"
            ],
            "image/png": "[encoded data removed]"
          },
          "metadata": {
            "needs_background": "light"
          }
        },
        {
          "output_type": "display_data",
          "data": {
            "text/plain": [
              "<Figure size 432x288 with 1 Axes>"
            ],
            "image/png": "[encoded data removed]"
          },
          "metadata": {
            "needs_background": "light"
          }
        }
      ]
    },
    {
      "cell_type": "code",
      "source": [
        "predicted_classes = fashion_model.predict(test_X)\n",
        "predicted_classes = np.argmax(np.round(predicted_classes),axis=1)\n",
        "predicted_classes.shape, test_Y.shape\n"
      ],
      "metadata": {
        "colab": {
          "base_uri": "https://localhost:8080/"
        },
        "id": "hdIVUt-bGcQN",
        "outputId": "71a0c3a7-1cac-4ab1-bfa8-b877f2534078"
      },
      "execution_count": 24,
      "outputs": [
        {
          "output_type": "stream",
          "name": "stdout",
          "text": [
            "313/313 [==============================] - 1s 2ms/step\n"
          ]
        },
        {
          "output_type": "execute_result",
          "data": {
            "text/plain": [
              "((10000,), (10000,))"
            ]
          },
          "metadata": {},
          "execution_count": 24
        }
      ]
    },
    {
      "cell_type": "code",
      "source": [
        "correct = np.where(predicted_classes==test_Y)[0]\n",
        "print (\"Found %d correct labels\" % len(correct))\n",
        "for i, correct in enumerate(correct[:9]):\n",
        "    plt.subplot(3,3,i+1)\n",
        "    plt.imshow(test_X[correct].reshape(28,28), cmap='gray', interpolation='none')\n",
        "    plt.title(\"Predicted {}, Class {}\".format(predicted_classes[correct], test_Y[correct]))\n",
        "    plt.tight_layout()\n"
      ],
      "metadata": {
        "colab": {
          "base_uri": "https://localhost:8080/",
          "height": 315
        },
        "id": "7p9gcZRkGhrl",
        "outputId": "2c06498d-7bdf-4327-e7b7-8856efd96bcb"
      },
      "execution_count": 31,
      "outputs": [
        {
          "output_type": "stream",
          "name": "stdout",
          "text": [
            "Found 9094 correct labels\n"
          ]
        },
        {
          "output_type": "display_data",
          "data": {
            "text/plain": [
              "<Figure size 432x288 with 9 Axes>"
            ],
            "image/png": "[encoded data removed]"
          },
          "metadata": {
            "needs_background": "light"
          }
        }
      ]
    },
    {
      "cell_type": "code",
      "source": [
        "incorrect = np.where(predicted_classes!=test_Y)[0]\n",
        "print (\"Found %d incorrect labels\" % len(incorrect))\n",
        "for i, incorrect in enumerate(incorrect[:9]):\n",
        "    plt.subplot(3,3,i+1)\n",
        "    plt.imshow(test_X[incorrect].reshape(28,28), cmap='gray', interpolation='none')\n",
        "    plt.title(\"Predicted {}, Class {}\".format(predicted_classes[incorrect], test_Y[incorrect]))\n",
        "    plt.tight_layout()\n"
      ],
      "metadata": {
        "colab": {
          "base_uri": "https://localhost:8080/",
          "height": 315
        },
        "id": "EL37TTmaHTzX",
        "outputId": "d1457d9d-04ad-4277-fb3a-3299b3c9e917"
      },
      "execution_count": 32,
      "outputs": [
        {
          "output_type": "stream",
          "name": "stdout",
          "text": [
            "Found 906 incorrect labels\n"
          ]
        },
        {
          "output_type": "display_data",
          "data": {
            "text/plain": [
              "<Figure size 432x288 with 9 Axes>"
            ],
            "image/png": "[encoded data removed]"
          },
          "metadata": {
            "needs_background": "light"
          }
        }
      ]
    },
    {
      "cell_type": "code",
      "source": [
        "from sklearn.metrics import classification_report\n",
        "target_names = [\"Class {}\".format(i) for i in range(num_classes)]\n",
        "print(classification_report(test_Y, predicted_classes, target_names=target_names))\n"
      ],
      "metadata": {
        "colab": {
          "base_uri": "https://localhost:8080/"
        },
        "id": "s6Liah1WHXm-",
        "outputId": "7a38bf6e-3a81-4f39-dff0-91f063bd63eb"
      },
      "execution_count": 33,
      "outputs": [
        {
          "output_type": "stream",
          "name": "stdout",
          "text": [
            "              precision    recall  f1-score   support\n",
            "\n",
            "     Class 0       0.89      0.79      0.83      1000\n",
            "     Class 1       0.99      0.98      0.99      1000\n",
            "     Class 2       0.89      0.83      0.86      1000\n",
            "     Class 3       0.92      0.92      0.92      1000\n",
            "     Class 4       0.85      0.88      0.86      1000\n",
            "     Class 5       0.99      0.98      0.98      1000\n",
            "     Class 6       0.70      0.80      0.75      1000\n",
            "     Class 7       0.94      0.98      0.96      1000\n",
            "     Class 8       0.97      0.98      0.98      1000\n",
            "     Class 9       0.98      0.95      0.97      1000\n",
            "\n",
            "    accuracy                           0.91     10000\n",
            "   macro avg       0.91      0.91      0.91     10000\n",
            "weighted avg       0.91      0.91      0.91     10000\n",
            "\n"
          ]
        }
      ]
    }
  ]
}
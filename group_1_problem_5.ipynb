{
  "nbformat": 4,
  "nbformat_minor": 0,
  "metadata": {
    "colab": {
      "provenance": [],
      "authorship_tag": "ABX9TyMBo9quzL4n6fEiEbW/HoyF",
      "include_colab_link": true
    },
    "kernelspec": {
      "name": "python3",
      "display_name": "Python 3"
    },
    "language_info": {
      "name": "python"
    }
  },
  "cells": [
    {
      "cell_type": "markdown",
      "metadata": {
        "id": "view-in-github",
        "colab_type": "text"
      },
      "source": [
        "<a href=\"https://colab.research.google.com/github/cbermudez13/eel4815_final_coding_assignment/blob/main/group_1_problem_5.ipynb\" target=\"_parent\"><img src=\"https://colab.research.google.com/assets/colab-badge.svg\" alt=\"Open In Colab\"/></a>"
      ]
    },
    {
      "cell_type": "code",
      "source": [
        "##binary SVM, use scikit code\n",
        "##any kernel outside of linear is applicable, report which performs the best out of the selected kernels\n",
        "import numpy as np\n",
        "from sklearn.pipeline import make_pipeline\n",
        "from sklearn.preprocessing import StandardScaler\n",
        "from sklearn import datasets\n",
        "from sklearn.svm import SVC\n"
      ],
      "metadata": {
        "id": "ZZEMEid8K5PZ"
      },
      "execution_count": 20,
      "outputs": []
    },
    {
      "cell_type": "code",
      "source": [
        "digit_dataset = datasets.load_digits()\n",
        "X = digit_dataset.data\n",
        "Y = digit_dataset.target\n",
        "print(\"The number of all datapoints is \", len(X))\n",
        "\n",
        "print(\"The number of features per datapoint is \", len(X[0]))\n",
        "\n",
        "# Use 1700 for training and the rest is to test the model:\n",
        "\n",
        "X_train,X_test = X[0:1700],X[1700:]\n",
        "Y_train,Y_test = Y[0:1700],Y[1700:]\n",
        "\n",
        "print(\"The number of training datapoints is \", len(X_train))\n",
        "print(\"The number of testing  datapoints is \", len(X_test))"
      ],
      "metadata": {
        "colab": {
          "base_uri": "https://localhost:8080/"
        },
        "id": "UOOUPNyurN9f",
        "outputId": "35a46ce3-7ed1-4fe7-95c1-80e90f853d63"
      },
      "execution_count": 24,
      "outputs": [
        {
          "output_type": "stream",
          "name": "stdout",
          "text": [
            "The number of all datapoints is  1797\n",
            "The number of features per datapoint is  64\n",
            "The number of training datapoints is  1700\n",
            "The number of testing  datapoints is  97\n"
          ]
        }
      ]
    },
    {
      "cell_type": "code",
      "source": [
        "Sclassification_model = make_pipeline(StandardScaler(), SVC(kernel=\"sigmoid\", verbose = True))\n",
        "Pclassification_model = make_pipeline(StandardScaler(), SVC(kernel=\"poly\", verbose = True))\n",
        "Rclassification_model = make_pipeline(StandardScaler(), SVC(kernel=\"rbf\", verbose = True))\n",
        "\n",
        "\n",
        "Sclassification_model.fit(X_train,Y_train)\n",
        "Pclassification_model.fit(X_train,Y_train)\n",
        "Rclassification_model.fit(X_train,Y_train)"
      ],
      "metadata": {
        "colab": {
          "base_uri": "https://localhost:8080/"
        },
        "id": "AzMyI1DPsx1g",
        "outputId": "d80771e2-a219-4d88-abfa-2ae7a090755a"
      },
      "execution_count": 25,
      "outputs": [
        {
          "output_type": "stream",
          "name": "stdout",
          "text": [
            "[LibSVM][LibSVM][LibSVM]"
          ]
        },
        {
          "output_type": "execute_result",
          "data": {
            "text/plain": [
              "Pipeline(steps=[('standardscaler', StandardScaler()),\n",
              "                ('svc', SVC(verbose=True))])"
            ]
          },
          "metadata": {},
          "execution_count": 25
        }
      ]
    },
    {
      "cell_type": "code",
      "source": [
        "# Next, lets test the data by computing the testing dataset classification accuracy\n",
        "\n",
        "CA_cnt = 0\n",
        "for test_data_point_index in range(len(X_test)):\n",
        "  test_data_point = X_test[test_data_point_index]\n",
        "  # obtain the predicted label:\n",
        "  predicted_label = Sclassification_model.predict([test_data_point])\n",
        "  # compare the predicted label with the true test label \n",
        "  true_label = Y_test[test_data_point_index]\n",
        "  if predicted_label == true_label:\n",
        "    CA_cnt = CA_cnt + 1\n",
        "  \n",
        "  # logger:\n",
        "  #print(\"Testing poing index {}. [Predicted label, True label] = [{},{}]\".format(test_data_point_index,predicted_label,true_label))\n",
        "\n",
        "print(\"The classification accuracy of the test dataset is {}%\".format(100*CA_cnt/len(X_test)))\n"
      ],
      "metadata": {
        "colab": {
          "base_uri": "https://localhost:8080/"
        },
        "id": "ZNKUOmqctkfQ",
        "outputId": "32615c7c-d0c4-44eb-ac9d-007ff763fe1a"
      },
      "execution_count": 26,
      "outputs": [
        {
          "output_type": "stream",
          "name": "stdout",
          "text": [
            "The classification accuracy of the test dataset is 94.84536082474227%\n"
          ]
        }
      ]
    },
    {
      "cell_type": "code",
      "source": [
        "# Next, lets test the data by computing the testing dataset classification accuracy\n",
        "\n",
        "CA_cnt = 0\n",
        "for test_data_point_index in range(len(X_test)):\n",
        "  test_data_point = X_test[test_data_point_index]\n",
        "  # obtain the predicted label:\n",
        "  predicted_label = Pclassification_model.predict([test_data_point])\n",
        "  # compare the predicted label with the true test label \n",
        "  true_label = Y_test[test_data_point_index]\n",
        "  if predicted_label == true_label:\n",
        "    CA_cnt = CA_cnt + 1\n",
        "  \n",
        "  # logger:\n",
        "  #print(\"Testing poing index {}. [Predicted label, True label] = [{},{}]\".format(test_data_point_index,predicted_label,true_label))\n",
        "\n",
        "print(\"The classification accuracy of the test dataset is {}%\".format(100*CA_cnt/len(X_test)))\n"
      ],
      "metadata": {
        "colab": {
          "base_uri": "https://localhost:8080/"
        },
        "id": "XcYNeDPgtsLE",
        "outputId": "8768e85d-03ce-4e3b-a157-2f236dbf1479"
      },
      "execution_count": 27,
      "outputs": [
        {
          "output_type": "stream",
          "name": "stdout",
          "text": [
            "The classification accuracy of the test dataset is 94.84536082474227%\n"
          ]
        }
      ]
    },
    {
      "cell_type": "code",
      "source": [
        "# Next, lets test the data by computing the testing dataset classification accuracy\n",
        "\n",
        "CA_cnt = 0\n",
        "for test_data_point_index in range(len(X_test)):\n",
        "  test_data_point = X_test[test_data_point_index]\n",
        "  # obtain the predicted label:\n",
        "  predicted_label = Rclassification_model.predict([test_data_point])\n",
        "  # compare the predicted label with the true test label \n",
        "  true_label = Y_test[test_data_point_index]\n",
        "  if predicted_label == true_label:\n",
        "    CA_cnt = CA_cnt + 1\n",
        "  \n",
        "  # logger:\n",
        "  #print(\"Testing poing index {}. [Predicted label, True label] = [{},{}]\".format(test_data_point_index,predicted_label,true_label))\n",
        "\n",
        "print(\"The classification accuracy of the test dataset is {}%\".format(100*CA_cnt/len(X_test)))\n"
      ],
      "metadata": {
        "colab": {
          "base_uri": "https://localhost:8080/"
        },
        "id": "qz_UBsSDtueQ",
        "outputId": "a99b6f37-6298-456a-abb0-5a3c6d490592"
      },
      "execution_count": 28,
      "outputs": [
        {
          "output_type": "stream",
          "name": "stdout",
          "text": [
            "The classification accuracy of the test dataset is 97.9381443298969%\n"
          ]
        }
      ]
    }
  ]
}
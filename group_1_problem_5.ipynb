{
  "nbformat": 4,
  "nbformat_minor": 0,
  "metadata": {
    "colab": {
      "provenance": [],
      "include_colab_link": true
    },
    "kernelspec": {
      "name": "python3",
      "display_name": "Python 3"
    },
    "language_info": {
      "name": "python"
    },
    "accelerator": "GPU",
    "gpuClass": "standard"
  },
  "cells": [
    {
      "cell_type": "markdown",
      "metadata": {
        "id": "view-in-github",
        "colab_type": "text"
      },
      "source": [
        "<a href=\"https://colab.research.google.com/github/cbermudez13/eel4815_final_coding_assignment/blob/main/group_1_problem_5.ipynb\" target=\"_parent\"><img src=\"https://colab.research.google.com/assets/colab-badge.svg\" alt=\"Open In Colab\"/></a>"
      ]
    },
    {
      "cell_type": "code",
      "source": [
        "##binary SVM, use scikit code\n",
        "##any kernel outside of linear is applicable, report which performs the best out of the selected kernels\n",
        "import numpy as np\n",
        "from sklearn.pipeline import make_pipeline\n",
        "from sklearn.preprocessing import StandardScaler\n",
        "from sklearn.preprocessing import Normalizer\n",
        "from sklearn import datasets\n",
        "from sklearn.svm import SVC\n"
      ],
      "metadata": {
        "id": "ZZEMEid8K5PZ"
      },
      "execution_count": 72,
      "outputs": []
    },
    {
      "cell_type": "code",
      "source": [
        "digit_dataset = datasets.load_digits()\n",
        "X = digit_dataset.data\n",
        "Y = digit_dataset.target\n",
        "print(\"The number of all datapoints is \", len(X))\n",
        "\n",
        "print(\"The number of features per datapoint is \", len(X[0]))\n",
        "\n",
        "# Use 1700 for training and the rest is to test the model:\n",
        "\n",
        "X_train,X_test = X[0:1700],X[1700:]\n",
        "Y_train,Y_test = Y[0:1700],Y[1700:]\n",
        "\n",
        "print(\"The number of training datapoints is \", len(X_train))\n",
        "print(\"The number of testing  datapoints is \", len(X_test))"
      ],
      "metadata": {
        "colab": {
          "base_uri": "https://localhost:8080/"
        },
        "id": "UOOUPNyurN9f",
        "outputId": "7638ca9f-ac80-4273-9739-ce88a0571ceb"
      },
      "execution_count": 73,
      "outputs": [
        {
          "output_type": "stream",
          "name": "stdout",
          "text": [
            "The number of all datapoints is  1797\n",
            "The number of features per datapoint is  64\n",
            "The number of training datapoints is  1700\n",
            "The number of testing  datapoints is  97\n"
          ]
        }
      ]
    },
    {
      "cell_type": "markdown",
      "source": [
        "# Changing the target labels to -1 if odd and 1 if even"
      ],
      "metadata": {
        "id": "s-ugMjHTMTS2"
      }
    },
    {
      "cell_type": "code",
      "source": [
        "Y_train_rearranged = Y_train\n",
        "for i in range(len(Y_train_rearranged)):\n",
        "  if (Y_train_rearranged[i]%2)==0:\n",
        "    Y_train_rearranged[i] = 1\n",
        "  else:\n",
        "    Y_train_rearranged[i] = -1\n",
        "print(Y_train_rearranged[:50])"
      ],
      "metadata": {
        "id": "vL403o4LJ7tB",
        "outputId": "ef51da72-9d1a-4971-9236-c31d500c14b5",
        "colab": {
          "base_uri": "https://localhost:8080/"
        }
      },
      "execution_count": 74,
      "outputs": [
        {
          "output_type": "stream",
          "name": "stdout",
          "text": [
            "[ 1 -1  1 -1  1 -1  1 -1  1 -1  1 -1  1 -1  1 -1  1 -1  1 -1  1 -1  1 -1\n",
            "  1 -1  1 -1  1 -1  1 -1 -1 -1  1 -1  1 -1  1 -1  1  1 -1 -1 -1 -1 -1 -1\n",
            "  1  1]\n"
          ]
        }
      ]
    },
    {
      "cell_type": "code",
      "source": [
        "Y_test_rearranged = Y_test\n",
        "for i in range(len(Y_test_rearranged)):\n",
        "  if (Y_test_rearranged[i]%2)==0:\n",
        "    Y_test_rearranged[i] = 1\n",
        "  else:\n",
        "    Y_test_rearranged[i] = -1\n",
        "print(Y_test_rearranged[:50])"
      ],
      "metadata": {
        "id": "oX0XdalwMArm",
        "outputId": "2e33f2b9-7013-4474-a33b-b3d75594fbce",
        "colab": {
          "base_uri": "https://localhost:8080/"
        }
      },
      "execution_count": 75,
      "outputs": [
        {
          "output_type": "stream",
          "name": "stdout",
          "text": [
            "[-1  1 -1  1 -1  1 -1  1  1 -1 -1 -1 -1 -1 -1  1  1  1  1 -1  1  1  1 -1\n",
            "  1  1 -1 -1 -1 -1 -1  1  1  1  1  1 -1 -1 -1  1 -1 -1  1  1  1  1  1 -1\n",
            " -1  1]\n"
          ]
        }
      ]
    },
    {
      "cell_type": "markdown",
      "source": [
        "# Making SVM models with different kernels"
      ],
      "metadata": {
        "id": "eQQhwofnO-yh"
      }
    },
    {
      "cell_type": "code",
      "source": [
        "Sclassification_model = make_pipeline(Normalizer(),StandardScaler(), SVC(kernel=\"sigmoid\", verbose = True))\n",
        "Pclassification_model = make_pipeline(Normalizer(),StandardScaler(), SVC(kernel=\"poly\", verbose = True))\n",
        "Rclassification_model = make_pipeline(Normalizer(),StandardScaler(), SVC(kernel=\"rbf\", verbose = True))\n",
        "\n",
        "\n",
        "Sclassification_model.fit(X_train,Y_train_rearranged)\n",
        "Pclassification_model.fit(X_train,Y_train_rearranged)\n",
        "Rclassification_model.fit(X_train,Y_train_rearranged)"
      ],
      "metadata": {
        "colab": {
          "base_uri": "https://localhost:8080/"
        },
        "id": "AzMyI1DPsx1g",
        "outputId": "4c7171b5-5d4a-4157-aa31-54f3d068e9bc"
      },
      "execution_count": 76,
      "outputs": [
        {
          "output_type": "stream",
          "name": "stdout",
          "text": [
            "[LibSVM][LibSVM][LibSVM]"
          ]
        },
        {
          "output_type": "execute_result",
          "data": {
            "text/plain": [
              "Pipeline(steps=[('normalizer', Normalizer()),\n",
              "                ('standardscaler', StandardScaler()),\n",
              "                ('svc', SVC(verbose=True))])"
            ]
          },
          "metadata": {},
          "execution_count": 76
        }
      ]
    },
    {
      "cell_type": "code",
      "source": [
        "# Next, lets test the data by computing the testing dataset classification accuracy\n",
        "\n",
        "CA_cnt = 0\n",
        "for test_data_point_index in range(len(X_test)):\n",
        "  test_data_point = X_test[test_data_point_index]\n",
        "  # obtain the predicted label:\n",
        "  predicted_label = Sclassification_model.predict([test_data_point])\n",
        "  # compare the predicted label with the true test label \n",
        "  true_label = Y_test_rearranged[test_data_point_index]\n",
        "  if predicted_label == true_label:\n",
        "    CA_cnt = CA_cnt + 1\n",
        "  \n",
        "  # logger:\n",
        "  #print(\"Testing poing index {}. [Predicted label, True label] = [{},{}]\".format(test_data_point_index,predicted_label,true_label))\n",
        "\n",
        "print(\"The classification accuracy of the test dataset is {}%\".format(100*CA_cnt/len(X_test)))\n"
      ],
      "metadata": {
        "colab": {
          "base_uri": "https://localhost:8080/"
        },
        "id": "ZNKUOmqctkfQ",
        "outputId": "eac673f7-df14-4f70-b3c9-5c82383e5abb"
      },
      "execution_count": 77,
      "outputs": [
        {
          "output_type": "stream",
          "name": "stdout",
          "text": [
            "The classification accuracy of the test dataset is 86.5979381443299%\n"
          ]
        }
      ]
    },
    {
      "cell_type": "code",
      "source": [
        "# Next, lets test the data by computing the testing dataset classification accuracy\n",
        "\n",
        "CA_cnt = 0\n",
        "for test_data_point_index in range(len(X_test)):\n",
        "  test_data_point = X_test[test_data_point_index]\n",
        "  # obtain the predicted label:\n",
        "  predicted_label = Pclassification_model.predict([test_data_point])\n",
        "  # compare the predicted label with the true test label \n",
        "  true_label = Y_test_rearranged[test_data_point_index]\n",
        "  if predicted_label == true_label:\n",
        "    CA_cnt = CA_cnt + 1\n",
        "  \n",
        "  # logger:\n",
        "  #print(\"Testing poing index {}. [Predicted label, True label] = [{},{}]\".format(test_data_point_index,predicted_label,true_label))\n",
        "\n",
        "print(\"The classification accuracy of the test dataset is {}%\".format(100*CA_cnt/len(X_test)))\n"
      ],
      "metadata": {
        "colab": {
          "base_uri": "https://localhost:8080/"
        },
        "id": "XcYNeDPgtsLE",
        "outputId": "f8a3206d-2f06-436a-ae63-56e395b1e581"
      },
      "execution_count": 78,
      "outputs": [
        {
          "output_type": "stream",
          "name": "stdout",
          "text": [
            "The classification accuracy of the test dataset is 97.9381443298969%\n"
          ]
        }
      ]
    },
    {
      "cell_type": "code",
      "source": [
        "# Next, lets test the data by computing the testing dataset classification accuracy\n",
        "\n",
        "CA_cnt = 0\n",
        "for test_data_point_index in range(len(X_test)):\n",
        "  test_data_point = X_test[test_data_point_index]\n",
        "  # obtain the predicted label:\n",
        "  predicted_label = Rclassification_model.predict([test_data_point])\n",
        "  # compare the predicted label with the true test label \n",
        "  true_label = Y_test_rearranged[test_data_point_index]\n",
        "  if predicted_label == true_label:\n",
        "    CA_cnt = CA_cnt + 1\n",
        "  \n",
        "  # logger:\n",
        "  #print(\"Testing poing index {}. [Predicted label, True label] = [{},{}]\".format(test_data_point_index,predicted_label,true_label))\n",
        "\n",
        "print(\"The classification accuracy of the test dataset is {}%\".format(100*CA_cnt/len(X_test)))\n"
      ],
      "metadata": {
        "colab": {
          "base_uri": "https://localhost:8080/"
        },
        "id": "qz_UBsSDtueQ",
        "outputId": "683a3e12-2f85-4c8f-9414-edc6a8e371dd"
      },
      "execution_count": 79,
      "outputs": [
        {
          "output_type": "stream",
          "name": "stdout",
          "text": [
            "The classification accuracy of the test dataset is 96.90721649484536%\n"
          ]
        }
      ]
    },
    {
      "cell_type": "markdown",
      "source": [
        "# The one that returned the best performance was the SVM with polynomial kernel. We made this observation based on which model performed with highest accuracy during the testing of the model."
      ],
      "metadata": {
        "id": "JVF1Bs25N_kz"
      }
    }
  ]
}
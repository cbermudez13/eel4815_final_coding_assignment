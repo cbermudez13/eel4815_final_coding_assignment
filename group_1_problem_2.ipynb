{
  "nbformat": 4,
  "nbformat_minor": 0,
  "metadata": {
    "colab": {
      "provenance": [],
      "include_colab_link": true
    },
    "kernelspec": {
      "name": "python3",
      "display_name": "Python 3"
    },
    "language_info": {
      "name": "python"
    },
    "accelerator": "GPU",
    "gpuClass": "standard"
  },
  "cells": [
    {
      "cell_type": "markdown",
      "metadata": {
        "id": "view-in-github",
        "colab_type": "text"
      },
      "source": [
        "<a href=\"https://colab.research.google.com/github/cbermudez13/eel4815_final_coding_assignment/blob/main/group_1_problem_2.ipynb\" target=\"_parent\"><img src=\"https://colab.research.google.com/assets/colab-badge.svg\" alt=\"Open In Colab\"/></a>"
      ]
    },
    {
      "cell_type": "code",
      "execution_count": null,
      "metadata": {
        "id": "_qgv3CqljS8G"
      },
      "outputs": [],
      "source": [
        "import tensorflow as tf\n",
        "from tensorflow.keras import layers\n",
        "import numpy as np\n",
        "\n",
        "\"\"\"\n",
        "This is a regression model. \n",
        "N is the number of features in each training or testing example. \n",
        "K is the number of units in each of the hidden layers. This number need not be fixed for both layers. \n",
        "\n",
        "For regression, M=1.  \n",
        "\"\"\"\n",
        "number_of_feature = 13\n",
        "number_of_units_in_hidden_layer = 404\n",
        "\n",
        "#### load the BOSTON regression dataset\n",
        "(x_train, y_train), (x_test, y_test) =  tf.keras.datasets.boston_housing.load_data(\n",
        "    path=\"boston_housing.npz\", test_split=0.2, seed=113\n",
        ")\n",
        "\n",
        "#### pre-process the data\n",
        "x_train -= np.mean(x_train)\n",
        "x_train /= np.std(x_train)\n",
        "\n",
        "x_test -= np.mean(x_test)\n",
        "x_test /= np.std(x_test)\n",
        "\n",
        "\n"
      ]
    },
    {
      "cell_type": "code",
      "source": [
        "#### construct the NN regression model\n",
        "NN_regression_model = tf.keras.Sequential()\n",
        "# define layer\n",
        "hidden_layer_1 = layers.Dense(units=number_of_units_in_hidden_layer, activation='relu')\n",
        "# add layer to the model\n",
        "NN_regression_model.add(hidden_layer_1)\n",
        "\n",
        "# define layer\n",
        "hidden_layer_2 = layers.Dense(units=number_of_units_in_hidden_layer, activation='relu')\n",
        "# add layer to the model\n",
        "NN_regression_model.add(hidden_layer_2)\n",
        "\n",
        "# define layer\n",
        "output_layer = layers.Dense(units=1, activation=None)\n",
        "# add layer to the model\n",
        "NN_regression_model.add(output_layer)\n",
        "\n",
        "print(\"break\")\n",
        "\n",
        "#### specify optimizer - lets use SGD with learning rate of 0.001.\n",
        "optimizer = tf.keras.optimizers.RMSprop(learning_rate = 0.001)\n",
        "\n",
        "#### specify the number of epochs and batch size\n",
        "epochs     = 1000\n",
        "batch_size = 1\n",
        "\n",
        "#### compile the model\n",
        "NN_regression_model.compile(optimizer=optimizer, loss='mse', metrics='mse') # mean absolute error"
      ],
      "metadata": {
        "colab": {
          "base_uri": "https://localhost:8080/"
        },
        "id": "EJdxnMRWkRY-",
        "outputId": "7389e75c-528c-4ff1-96b7-e63521d33f6b"
      },
      "execution_count": 10,
      "outputs": [
        {
          "output_type": "stream",
          "name": "stdout",
          "text": [
            "break\n"
          ]
        }
      ]
    },
    {
      "cell_type": "code",
      "source": [
        "# #### train the whole batch for 1000 epochs\n",
        "NN_model= NN_regression_model.fit(x_train, y_train, epochs=epochs, batch_size = batch_size, verbose=1)\n",
        "train_error_mse,_ = NN_regression_model.evaluate(x_train, y_train)\n",
        "test_error_mse ,_ = NN_regression_model.evaluate(x_test, y_test)\n",
        "print(\"MSE on training data = {} ; MSE of testing data = {}\".format(train_error_mse, test_error_mse))"
      ],
      "metadata": {
        "colab": {
          "base_uri": "https://localhost:8080/"
        },
        "id": "BQkLCfxtkU8l",
        "outputId": "ac72d5d2-5b2e-433c-c9af-fc60bb8b25d1"
      },
      "execution_count": 11,
      "outputs": [
        {
          "output_type": "stream",
          "name": "stdout",
          "text": [
            "Epoch 1/2\n",
            "404/404 [==============================] - 2s 3ms/step - loss: 87.9214 - mse: 87.9214\n",
            "Epoch 2/2\n",
            "404/404 [==============================] - 1s 3ms/step - loss: 67.8443 - mse: 67.8443\n",
            "13/13 [==============================] - 0s 2ms/step - loss: 60.7698 - mse: 60.7698\n",
            "4/4 [==============================] - 0s 3ms/step - loss: 55.6791 - mse: 55.6791\n",
            "MSE on training data = 60.7697639465332 ; MSE of testing data = 55.67906188964844\n"
          ]
        }
      ]
    },
    {
      "cell_type": "code",
      "source": [
        "import matplotlib.pyplot as plt\n",
        "mse = NN_model.history[]\n",
        "val_accuracy = NN_regression_model.history['val_accuracy']\n",
        "loss = NN_regression_model.history['loss']\n",
        "val_loss = NN_regression_model.history['val_loss']\n",
        "epochs = range(len(accuracy))\n",
        "plt.plot(epochs, error, 'bo', label='Training accuracy')\n",
        "plt.plot(epochs, val_accuracy, 'b', label='Validation accuracy')\n",
        "plt.title('Training and validation accuracy')\n",
        "plt.legend()\n",
        "plt.figure()\n",
        "plt.plot(epochs, loss, 'bo', label='Training loss')\n",
        "plt.plot(epochs, val_loss, 'b', label='Validation loss')\n",
        "plt.title('Training and validation loss')\n",
        "plt.legend()\n",
        "plt.show()"
      ],
      "metadata": {
        "id": "0jvrYqWm6idh",
        "outputId": "c472702d-a02f-4e6e-a406-06a4fe863e35",
        "colab": {
          "base_uri": "https://localhost:8080/",
          "height": 133
        }
      },
      "execution_count": 17,
      "outputs": [
        {
          "output_type": "error",
          "ename": "SyntaxError",
          "evalue": "ignored",
          "traceback": [
            "\u001b[0;36m  File \u001b[0;32m\"<ipython-input-17-33562f3a4cbf>\"\u001b[0;36m, line \u001b[0;32m2\u001b[0m\n\u001b[0;31m    mse = NN_model.history[]\u001b[0m\n\u001b[0m                           ^\u001b[0m\n\u001b[0;31mSyntaxError\u001b[0m\u001b[0;31m:\u001b[0m invalid syntax\n"
          ]
        }
      ]
    }
  ]
}
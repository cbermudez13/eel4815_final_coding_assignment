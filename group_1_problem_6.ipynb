{
  "nbformat": 4,
  "nbformat_minor": 0,
  "metadata": {
    "colab": {
      "provenance": [],
      "authorship_tag": "ABX9TyMSPzYlMWPB0N1Ub91UEMwn",
      "include_colab_link": true
    },
    "kernelspec": {
      "name": "python3",
      "display_name": "Python 3"
    },
    "language_info": {
      "name": "python"
    }
  },
  "cells": [
    {
      "cell_type": "markdown",
      "metadata": {
        "id": "view-in-github",
        "colab_type": "text"
      },
      "source": [
        "<a href=\"https://colab.research.google.com/github/cbermudez13/eel4815_final_coding_assignment/blob/main/group_1_problem_6.ipynb\" target=\"_parent\"><img src=\"https://colab.research.google.com/assets/colab-badge.svg\" alt=\"Open In Colab\"/></a>"
      ]
    },
    {
      "cell_type": "code",
      "execution_count": 16,
      "metadata": {
        "id": "oFlj4wW4m3KH",
        "colab": {
          "base_uri": "https://localhost:8080/"
        },
        "outputId": "b1668cf1-fbae-4d30-9a3d-dc4a24a5f503"
      },
      "outputs": [
        {
          "output_type": "stream",
          "name": "stdout",
          "text": [
            "The number of all datapoints is  150\n",
            "The number of features per datapoint is  4\n",
            "The number of training datapoints is  100\n",
            "The number of testing  datapoints is  50\n"
          ]
        }
      ],
      "source": [
        "## two columns cannot be equal, a column cannot be all +1 or all -1\n",
        "## a similar example was in lecture\n",
        "import numpy as np\n",
        "from numpy import mean\n",
        "from numpy import std\n",
        "from sklearn.pipeline import make_pipeline\n",
        "from sklearn.preprocessing import StandardScaler\n",
        "from sklearn import datasets\n",
        "from sklearn.datasets import make_classification\n",
        "from sklearn.svm import SVC\n",
        "from sklearn.model_selection import cross_val_score\n",
        "from sklearn.model_selection import RepeatedStratifiedKFold\n",
        "from sklearn.linear_model import LogisticRegression\n",
        "from sklearn.multiclass import OutputCodeClassifier\n",
        "\n",
        "iris_dataset = datasets.load_iris()\n",
        "X = iris_dataset.data\n",
        "Y = iris_dataset.target\n",
        "\n",
        "print(\"The number of all datapoints is \", len(X))\n",
        "\n",
        "print(\"The number of features per datapoint is \", len(X[0]))\n",
        "\n",
        "X_train,X_test = X[0:100],X[100:]\n",
        "Y_train,Y_test = Y[0:100],Y[100:]\n",
        "\n",
        "\n",
        "print(\"The number of training datapoints is \", len(X_train))\n",
        "print(\"The number of testing  datapoints is \", len(X_test))\n",
        "#print(X.target_names)\n"
      ]
    },
    {
      "cell_type": "code",
      "source": [
        "C1 = np.array([[1, -1, -1, 1], [-1, 1, -1, 1], [-1, -1, 1, -1]])\n",
        "print(C1)\n",
        "print(\"\\n\")\n",
        "C2 = np.array([[1, -1, -1, 1], [1, 1, -1, 1], [-1, -1, 1, -1]])\n",
        "print(C2)\n"
      ],
      "metadata": {
        "id": "Lr3LGbrfOwpa",
        "outputId": "3062a3d7-1831-4f79-dbaa-b23370f2e8b3",
        "colab": {
          "base_uri": "https://localhost:8080/"
        }
      },
      "execution_count": 11,
      "outputs": [
        {
          "output_type": "stream",
          "name": "stdout",
          "text": [
            "[[ 1 -1 -1  1]\n",
            " [-1  1 -1  1]\n",
            " [-1 -1  1 -1]]\n",
            "\n",
            "\n",
            "[[ 1 -1 -1  1]\n",
            " [ 1  1 -1  1]\n",
            " [-1 -1  1 -1]]\n"
          ]
        }
      ]
    },
    {
      "cell_type": "code",
      "source": [
        "classification_model = make_pipeline(StandardScaler(), SVC(kernel=\"linear\", verbose = True))\n",
        "##need to update\n",
        "\n",
        "classification_model.fit(X_train,Y_train)\n",
        "#ecoc = OutputCodeClassifier(model, code_size=2, random_state=1)\n",
        "#print(X.shape,Y.shape)"
      ],
      "metadata": {
        "colab": {
          "base_uri": "https://localhost:8080/"
        },
        "id": "VW1mUd6_Fomw",
        "outputId": "f1598f7a-d159-433d-d559-a61ff3969933"
      },
      "execution_count": 13,
      "outputs": [
        {
          "output_type": "stream",
          "name": "stdout",
          "text": [
            "[LibSVM]"
          ]
        },
        {
          "output_type": "execute_result",
          "data": {
            "text/plain": [
              "Pipeline(steps=[('standardscaler', StandardScaler()),\n",
              "                ('svc', SVC(kernel='linear', verbose=True))])"
            ]
          },
          "metadata": {},
          "execution_count": 13
        }
      ]
    },
    {
      "cell_type": "code",
      "source": [
        "cv = RepeatedStratifiedKFold(n_splits=10, n_repeats=3, random_state=1)\n",
        "# evaluate the model and collect the scores\n",
        "#n_iris = cross_val_score(ecoc, X, Y, scoring='accuracy', cv=cv, n_jobs=-1)\n",
        "# summarize the performance\n",
        "#print('Accuracy: %.3f (%.3f)' % (mean(n_scores), std(n_scores)))"
      ],
      "metadata": {
        "id": "QzYUQB8HKXCj"
      },
      "execution_count": 18,
      "outputs": []
    },
    {
      "cell_type": "code",
      "source": [
        "from sklearn.datasets import make_classification\n",
        "from sklearn.linear_model import LogisticRegression\n",
        "from sklearn.multiclass import OutputCodeClassifier\n",
        "# define dataset\n",
        "X, y = make_classification(n_samples=150, n_features=2, n_informative=0, n_redundant=0, random_state=1, n_classes=3)\n",
        "# define the binary classification model\n",
        "model = LogisticRegression()\n",
        "# define the ecoc model\n",
        "ecoc = OutputCodeClassifier(model, code_size=2, random_state=1)\n",
        "# fit the model on the whole dataset\n",
        "ecoc.fit(X, y)\n",
        "# make a single prediction\n",
        "row = [[1, 1, 1, 1, 1, 1, 1, 1, 1, 1, 1, 1]]\n",
        "yhat = ecoc.predict(row)\n",
        "print('Predicted Class: %d' % yhat[0])"
      ],
      "metadata": {
        "id": "Dfd5JZB-KqqC"
      },
      "execution_count": null,
      "outputs": []
    },
    {
      "cell_type": "code",
      "source": [
        "# Next, lets test the data by computing the testing dataset classification accuracy\n",
        "\n",
        "CA_cnt = 0\n",
        "for test_data_point_index in range(len(X_test)):\n",
        "  test_data_point = X_test[test_data_point_index]\n",
        "  # obtain the predicted label:\n",
        "  predicted_label = classification_model.predict([test_data_point])\n",
        "  # compare the predicted label with the true test label \n",
        "  true_label = Y_test[test_data_point_index]\n",
        "  if predicted_label == true_label:\n",
        "    CA_cnt = CA_cnt + 1\n",
        "  \n",
        "  # logger:\n",
        "  #print(\"Testing poing index {}. [Predicted label, True label] = [{},{}]\".format(test_data_point_index,predicted_label,true_label))\n",
        "\n",
        "print(\"The classification accuracy of the test dataset is {}%\".format(100*CA_cnt/len(X_test)))\n"
      ],
      "metadata": {
        "id": "tMVV-D7PF0I7"
      },
      "execution_count": null,
      "outputs": []
    },
    {
      "cell_type": "code",
      "source": [],
      "metadata": {
        "id": "PdupYZakH9sX"
      },
      "execution_count": null,
      "outputs": []
    },
    {
      "cell_type": "markdown",
      "source": [
        "The Matrix C3 cannot be used as it possesses a column of just -1. Furthermore, it may also be important to note than it possesses a row of eniterly -1 as well. These features will reduce the uniqueness of the encoded label/matrix. "
      ],
      "metadata": {
        "id": "3wpEGGGlCA2j"
      }
    }
  ]
}
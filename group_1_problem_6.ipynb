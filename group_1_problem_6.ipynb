{
  "nbformat": 4,
  "nbformat_minor": 0,
  "metadata": {
    "colab": {
      "provenance": [],
      "authorship_tag": "ABX9TyNaKBHdRM58B/Vfl1whfQIz",
      "include_colab_link": true
    },
    "kernelspec": {
      "name": "python3",
      "display_name": "Python 3"
    },
    "language_info": {
      "name": "python"
    }
  },
  "cells": [
    {
      "cell_type": "markdown",
      "metadata": {
        "id": "view-in-github",
        "colab_type": "text"
      },
      "source": [
        "<a href=\"https://colab.research.google.com/github/cbermudez13/eel4815_final_coding_assignment/blob/main/group_1_problem_6.ipynb\" target=\"_parent\"><img src=\"https://colab.research.google.com/assets/colab-badge.svg\" alt=\"Open In Colab\"/></a>"
      ]
    },
    {
      "cell_type": "code",
      "execution_count": 37,
      "metadata": {
        "id": "oFlj4wW4m3KH",
        "colab": {
          "base_uri": "https://localhost:8080/"
        },
        "outputId": "16f87f95-bca4-4681-d6d4-941ea980f642"
      },
      "outputs": [
        {
          "output_type": "stream",
          "name": "stdout",
          "text": [
            "The number of all datapoints is  150\n",
            "The number of features per datapoint is  4\n",
            "The number of training datapoints is  100\n",
            "The number of testing  datapoints is  50\n"
          ]
        }
      ],
      "source": [
        "## two columns cannot be equal, a column cannot be all +1 or all -1\n",
        "## a similar example was in lecture\n",
        "import numpy as np\n",
        "from numpy import mean\n",
        "from numpy import std\n",
        "from sklearn.pipeline import make_pipeline\n",
        "from sklearn.preprocessing import StandardScaler\n",
        "from sklearn import datasets\n",
        "from sklearn.datasets import make_classification\n",
        "from sklearn.svm import SVC\n",
        "from sklearn.model_selection import cross_val_score\n",
        "from sklearn.model_selection import RepeatedStratifiedKFold\n",
        "from sklearn.linear_model import LogisticRegression\n",
        "from sklearn.multiclass import OutputCodeClassifier\n",
        "\n",
        "iris_dataset = datasets.load_iris()\n",
        "X = iris_dataset.data\n",
        "Y = iris_dataset.target\n",
        "\n",
        "print(\"The number of all datapoints is \", len(X))\n",
        "\n",
        "print(\"The number of features per datapoint is \", len(X[0]))\n",
        "\n",
        "X_train,X_test = X[0:100],X[100:]\n",
        "Y_train,Y_test = Y[0:100],Y[100:]\n",
        "\n",
        "\n",
        "print(\"The number of training datapoints is \", len(X_train))\n",
        "print(\"The number of testing  datapoints is \", len(X_test))"
      ]
    },
    {
      "cell_type": "code",
      "source": [
        "classification_model = make_pipeline(StandardScaler(), SVC(kernel=\"linear\", verbose = True))\n",
        "##need to update\n",
        "\n",
        "classification_model.fit(X_train,Y_train)\n",
        "ecoc = OutputCodeClassifier(model, code_size=2, random_state=1)\n",
        "#print(X.shape,Y.shape)"
      ],
      "metadata": {
        "colab": {
          "base_uri": "https://localhost:8080/"
        },
        "id": "VW1mUd6_Fomw",
        "outputId": "f7f85937-c1d0-4b2e-ae37-bae722bbf4e6"
      },
      "execution_count": 40,
      "outputs": [
        {
          "output_type": "stream",
          "name": "stdout",
          "text": [
            "[LibSVM](150, 4) (150,)\n"
          ]
        }
      ]
    },
    {
      "cell_type": "code",
      "source": [
        "cv = RepeatedStratifiedKFold(n_splits=10, n_repeats=3, random_state=1)\n",
        "# evaluate the model and collect the scores\n",
        "n_iris = cross_val_score(ecoc, X, Y, scoring='accuracy', cv=cv, n_jobs=-1)\n",
        "# summarize the performance\n",
        "print('Accuracy: %.3f (%.3f)' % (mean(n_scores), std(n_scores)))"
      ],
      "metadata": {
        "colab": {
          "base_uri": "https://localhost:8080/"
        },
        "id": "QzYUQB8HKXCj",
        "outputId": "374fd994-4d96-40c4-f017-b963cd89b1ef"
      },
      "execution_count": 42,
      "outputs": [
        {
          "output_type": "stream",
          "name": "stdout",
          "text": [
            "Accuracy: 0.776 (0.036)\n"
          ]
        }
      ]
    },
    {
      "cell_type": "code",
      "source": [
        "from sklearn.datasets import make_classification\n",
        "from sklearn.linear_model import LogisticRegression\n",
        "from sklearn.multiclass import OutputCodeClassifier\n",
        "# define dataset\n",
        "X, y = make_classification(n_samples=150, n_features=2, n_informative=0, n_redundant=0, random_state=1, n_classes=3)\n",
        "# define the binary classification model\n",
        "model = LogisticRegression()\n",
        "# define the ecoc model\n",
        "ecoc = OutputCodeClassifier(model, code_size=2, random_state=1)\n",
        "# fit the model on the whole dataset\n",
        "ecoc.fit(X, y)\n",
        "# make a single prediction\n",
        "row = [[1, 1, 1, 1, 1, 1, 1, 1, 1, 1, 1, 1]]\n",
        "yhat = ecoc.predict(row)\n",
        "print('Predicted Class: %d' % yhat[0])"
      ],
      "metadata": {
        "colab": {
          "base_uri": "https://localhost:8080/",
          "height": 384
        },
        "id": "Dfd5JZB-KqqC",
        "outputId": "7bab3722-419d-4067-9343-974975cb53f4"
      },
      "execution_count": 51,
      "outputs": [
        {
          "output_type": "error",
          "ename": "ValueError",
          "evalue": "ignored",
          "traceback": [
            "\u001b[0;31m---------------------------------------------------------------------------\u001b[0m",
            "\u001b[0;31mValueError\u001b[0m                                Traceback (most recent call last)",
            "\u001b[0;32m<ipython-input-51-f63ffc98e4be>\u001b[0m in \u001b[0;36m<module>\u001b[0;34m\u001b[0m\n\u001b[1;32m      3\u001b[0m \u001b[0;32mfrom\u001b[0m \u001b[0msklearn\u001b[0m\u001b[0;34m.\u001b[0m\u001b[0mmulticlass\u001b[0m \u001b[0;32mimport\u001b[0m \u001b[0mOutputCodeClassifier\u001b[0m\u001b[0;34m\u001b[0m\u001b[0;34m\u001b[0m\u001b[0m\n\u001b[1;32m      4\u001b[0m \u001b[0;31m# define dataset\u001b[0m\u001b[0;34m\u001b[0m\u001b[0;34m\u001b[0m\u001b[0;34m\u001b[0m\u001b[0m\n\u001b[0;32m----> 5\u001b[0;31m \u001b[0mX\u001b[0m\u001b[0;34m,\u001b[0m \u001b[0my\u001b[0m \u001b[0;34m=\u001b[0m \u001b[0mmake_classification\u001b[0m\u001b[0;34m(\u001b[0m\u001b[0mn_samples\u001b[0m\u001b[0;34m=\u001b[0m\u001b[0;36m150\u001b[0m\u001b[0;34m,\u001b[0m \u001b[0mn_features\u001b[0m\u001b[0;34m=\u001b[0m\u001b[0;36m2\u001b[0m\u001b[0;34m,\u001b[0m \u001b[0mn_informative\u001b[0m\u001b[0;34m=\u001b[0m\u001b[0;36m0\u001b[0m\u001b[0;34m,\u001b[0m \u001b[0mn_redundant\u001b[0m\u001b[0;34m=\u001b[0m\u001b[0;36m0\u001b[0m\u001b[0;34m,\u001b[0m \u001b[0mrandom_state\u001b[0m\u001b[0;34m=\u001b[0m\u001b[0;36m1\u001b[0m\u001b[0;34m,\u001b[0m \u001b[0mn_classes\u001b[0m\u001b[0;34m=\u001b[0m\u001b[0;36m3\u001b[0m\u001b[0;34m)\u001b[0m\u001b[0;34m\u001b[0m\u001b[0;34m\u001b[0m\u001b[0m\n\u001b[0m\u001b[1;32m      6\u001b[0m \u001b[0;31m# define the binary classification model\u001b[0m\u001b[0;34m\u001b[0m\u001b[0;34m\u001b[0m\u001b[0;34m\u001b[0m\u001b[0m\n\u001b[1;32m      7\u001b[0m \u001b[0mmodel\u001b[0m \u001b[0;34m=\u001b[0m \u001b[0mLogisticRegression\u001b[0m\u001b[0;34m(\u001b[0m\u001b[0;34m)\u001b[0m\u001b[0;34m\u001b[0m\u001b[0;34m\u001b[0m\u001b[0m\n",
            "\u001b[0;32m/usr/local/lib/python3.8/dist-packages/sklearn/datasets/_samples_generator.py\u001b[0m in \u001b[0;36mmake_classification\u001b[0;34m(n_samples, n_features, n_informative, n_redundant, n_repeated, n_classes, n_clusters_per_class, weights, flip_y, class_sep, hypercube, shift, scale, shuffle, random_state)\u001b[0m\n\u001b[1;32m    184\u001b[0m         \u001b[0mmsg\u001b[0m \u001b[0;34m=\u001b[0m \u001b[0;34m\"n_classes({}) * n_clusters_per_class({}) must be\"\u001b[0m\u001b[0;34m\u001b[0m\u001b[0;34m\u001b[0m\u001b[0m\n\u001b[1;32m    185\u001b[0m         \u001b[0mmsg\u001b[0m \u001b[0;34m+=\u001b[0m \u001b[0;34m\" smaller or equal 2**n_informative({})={}\"\u001b[0m\u001b[0;34m\u001b[0m\u001b[0;34m\u001b[0m\u001b[0m\n\u001b[0;32m--> 186\u001b[0;31m         raise ValueError(\n\u001b[0m\u001b[1;32m    187\u001b[0m             msg.format(\n\u001b[1;32m    188\u001b[0m                 \u001b[0mn_classes\u001b[0m\u001b[0;34m,\u001b[0m \u001b[0mn_clusters_per_class\u001b[0m\u001b[0;34m,\u001b[0m \u001b[0mn_informative\u001b[0m\u001b[0;34m,\u001b[0m \u001b[0;36m2\u001b[0m \u001b[0;34m**\u001b[0m \u001b[0mn_informative\u001b[0m\u001b[0;34m\u001b[0m\u001b[0;34m\u001b[0m\u001b[0m\n",
            "\u001b[0;31mValueError\u001b[0m: n_classes(3) * n_clusters_per_class(2) must be smaller or equal 2**n_informative(0)=1"
          ]
        }
      ]
    },
    {
      "cell_type": "code",
      "source": [
        "# Next, lets test the data by computing the testing dataset classification accuracy\n",
        "\n",
        "CA_cnt = 0\n",
        "for test_data_point_index in range(len(X_test)):\n",
        "  test_data_point = X_test[test_data_point_index]\n",
        "  # obtain the predicted label:\n",
        "  predicted_label = classification_model.predict([test_data_point])\n",
        "  # compare the predicted label with the true test label \n",
        "  true_label = Y_test[test_data_point_index]\n",
        "  if predicted_label == true_label:\n",
        "    CA_cnt = CA_cnt + 1\n",
        "  \n",
        "  # logger:\n",
        "  #print(\"Testing poing index {}. [Predicted label, True label] = [{},{}]\".format(test_data_point_index,predicted_label,true_label))\n",
        "\n",
        "print(\"The classification accuracy of the test dataset is {}%\".format(100*CA_cnt/len(X_test)))\n"
      ],
      "metadata": {
        "colab": {
          "base_uri": "https://localhost:8080/"
        },
        "id": "tMVV-D7PF0I7",
        "outputId": "14b7a62e-f67a-4617-e216-292d27c29583"
      },
      "execution_count": 34,
      "outputs": [
        {
          "output_type": "stream",
          "name": "stdout",
          "text": [
            "The classificaiton accuracy of the test dataset is 0.0%\n"
          ]
        }
      ]
    },
    {
      "cell_type": "code",
      "source": [],
      "metadata": {
        "id": "PdupYZakH9sX"
      },
      "execution_count": null,
      "outputs": []
    },
    {
      "cell_type": "markdown",
      "source": [
        "The Matrix C3 cannot be used as it possesses a column of just -1. Furthermore, it may also be important to note than it possesses a row of eniterly -1 as well. These features will reduce the uniqueness of the encoded label/matrix. "
      ],
      "metadata": {
        "id": "3wpEGGGlCA2j"
      }
    }
  ]
}
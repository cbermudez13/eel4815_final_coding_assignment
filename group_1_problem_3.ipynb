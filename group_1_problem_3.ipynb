{
  "nbformat": 4,
  "nbformat_minor": 0,
  "metadata": {
    "colab": {
      "provenance": [],
      "include_colab_link": true
    },
    "kernelspec": {
      "name": "python3",
      "display_name": "Python 3"
    },
    "language_info": {
      "name": "python"
    },
    "accelerator": "GPU",
    "gpuClass": "standard"
  },
  "cells": [
    {
      "cell_type": "markdown",
      "metadata": {
        "id": "view-in-github",
        "colab_type": "text"
      },
      "source": [
        "<a href=\"https://colab.research.google.com/github/cbermudez13/eel4815_final_coding_assignment/blob/main/group_1_problem_3.ipynb\" target=\"_parent\"><img src=\"https://colab.research.google.com/assets/colab-badge.svg\" alt=\"Open In Colab\"/></a>"
      ]
    },
    {
      "cell_type": "code",
      "execution_count": 56,
      "metadata": {
        "colab": {
          "base_uri": "https://localhost:8080/",
          "height": 72
        },
        "id": "kXIb2BghpzsC",
        "outputId": "aef812dc-75b0-4214-b884-218b58c42e96"
      },
      "outputs": [
        {
          "output_type": "execute_result",
          "data": {
            "text/plain": [
              "'\\nThis is a classification model based on NN. Here, we use only dense layers with MNIST dataset.   \\nTypically M <= N <= K. M is the number of classes. \\nN is the number of features in each training or testing example. \\nK is the number of units in each of the hidden layers. This number need not be fixed for both layers.\\n\\nFor classification of MNIST, M=10.  \\n'"
            ],
            "application/vnd.google.colaboratory.intrinsic+json": {
              "type": "string"
            }
          },
          "metadata": {},
          "execution_count": 56
        }
      ],
      "source": [
        "import numpy as np\n",
        "import tensorflow as tf\n",
        "from tensorflow.keras import layers\n",
        "import matplotlib.pyplot as plt\n",
        "\n",
        "\"\"\"\n",
        "This is a classification model based on NN. Here, we use only dense layers with MNIST dataset.   \n",
        "Typically M <= N <= K. M is the number of classes. \n",
        "N is the number of features in each training or testing example. \n",
        "K is the number of units in each of the hidden layers. This number need not be fixed for both layers.\n",
        "\n",
        "For classification of MNIST, M=10.  \n",
        "\"\"\""
      ]
    },
    {
      "cell_type": "code",
      "source": [
        "number_of_features = 28*28\n",
        "number_of_units_in_hidden_layer = 100\n",
        "\n",
        "#### load the MNIST dataset\n",
        "(x_train, y_train), (x_test, y_test) = tf.keras.datasets.mnist.load_data()\n"
      ],
      "metadata": {
        "id": "0kewgV3AqkIi"
      },
      "execution_count": 57,
      "outputs": []
    },
    {
      "cell_type": "code",
      "source": [
        "#### building the input vector from the 28x28 pixels\n",
        "\n",
        "x_train = x_train.astype('float32')\n",
        "x_test = x_test.astype('float32')\n",
        "\n",
        "# normalizing the data\n",
        "x_train /= 255\n",
        "x_test /= 255\n",
        "\n",
        "x_train = x_train.reshape(60000,784,1)\n",
        "x_test  = x_test.reshape(10000,784,1)"
      ],
      "metadata": {
        "id": "33gtbURxqdfh"
      },
      "execution_count": 58,
      "outputs": []
    },
    {
      "cell_type": "code",
      "source": [
        "# one-hot encoding (OHE)\n",
        "y_train_OHE = []\n",
        "for label in y_train:\n",
        "    all_zero_temp , all_zero_temp[label] = 10*[0],1.0\n",
        "    y_train_OHE.append(all_zero_temp)\n",
        "y_train_OHE = np.asarray(y_train_OHE)\n",
        "\n",
        "y_test_OHE = []\n",
        "for label in y_test:\n",
        "    all_zero_temp = 10*[0]\n",
        "    all_zero_temp[label] = 1.0\n",
        "    y_test_OHE.append(all_zero_temp)\n",
        "y_test_OHE = np.asarray(y_test_OHE)\n"
      ],
      "metadata": {
        "id": "69_r5OegqqFa"
      },
      "execution_count": 59,
      "outputs": []
    },
    {
      "cell_type": "code",
      "source": [
        "#### Construct the NN classification model\n"
      ],
      "metadata": {
        "id": "fELRtFC8qsfu"
      },
      "execution_count": 60,
      "outputs": []
    },
    {
      "cell_type": "code",
      "source": [
        "def create_model1(loss,optimizer,number_of_units_in_hidden_layer):\n",
        "    NN_classification_model = tf.keras.Sequential()\n",
        "\n",
        "    layer = layers.Reshape((784,), input_shape=(784,1))\n",
        "    NN_classification_model.add(layer)\n",
        "\n",
        "    # define layer\n",
        "    hidden_layer_1 = layers.Dense(units=number_of_units_in_hidden_layer,input_shape=(784,), activation='relu')\n",
        "    # add layer to the model\n",
        "    NN_classification_model.add(hidden_layer_1)\n",
        "    # define layer\n",
        "    output_layer = layers.Dense(units=10, activation='softmax')\n",
        "    # add layer to the model\n",
        "    NN_classification_model.add(output_layer)\n",
        "    NN_classification_model.compile(loss=loss,optimizer=optimizer,metrics=['accuracy'])\n",
        "\n",
        "    return NN_classification_model"
      ],
      "metadata": {
        "id": "vqVH8tY72Ii9"
      },
      "execution_count": 61,
      "outputs": []
    },
    {
      "cell_type": "markdown",
      "source": [
        "# Cross entropy and Adam"
      ],
      "metadata": {
        "id": "0FHJAC-R-66m"
      }
    },
    {
      "cell_type": "code",
      "source": [
        "loss = 'categorical_crossentropy'\n",
        "optimizer = 'adam'\n",
        "NN_model = create_model1(loss,optimizer,number_of_units_in_hidden_layer)\n",
        "model1= NN_model.fit(x_train, y_train_OHE, epochs=40, batch_size = 100, verbose=1,validation_data=(x_test, y_test_OHE))"
      ],
      "metadata": {
        "id": "YEnM9BaT1ZCx",
        "colab": {
          "base_uri": "https://localhost:8080/"
        },
        "outputId": "b2f360d9-5d54-4916-c695-2e7d78776792"
      },
      "execution_count": 62,
      "outputs": [
        {
          "output_type": "stream",
          "name": "stdout",
          "text": [
            "Epoch 1/40\n",
            "600/600 [==============================] - 2s 3ms/step - loss: 0.3526 - accuracy: 0.9028 - val_loss: 0.1965 - val_accuracy: 0.9453\n",
            "Epoch 2/40\n",
            "600/600 [==============================] - 2s 3ms/step - loss: 0.1708 - accuracy: 0.9510 - val_loss: 0.1472 - val_accuracy: 0.9574\n",
            "Epoch 3/40\n",
            "600/600 [==============================] - 2s 3ms/step - loss: 0.1251 - accuracy: 0.9638 - val_loss: 0.1161 - val_accuracy: 0.9664\n",
            "Epoch 4/40\n",
            "600/600 [==============================] - 2s 3ms/step - loss: 0.0993 - accuracy: 0.9717 - val_loss: 0.1000 - val_accuracy: 0.9713\n",
            "Epoch 5/40\n",
            "600/600 [==============================] - 2s 3ms/step - loss: 0.0795 - accuracy: 0.9771 - val_loss: 0.0905 - val_accuracy: 0.9722\n",
            "Epoch 6/40\n",
            "600/600 [==============================] - 2s 3ms/step - loss: 0.0671 - accuracy: 0.9805 - val_loss: 0.0814 - val_accuracy: 0.9747\n",
            "Epoch 7/40\n",
            "600/600 [==============================] - 2s 3ms/step - loss: 0.0569 - accuracy: 0.9834 - val_loss: 0.0783 - val_accuracy: 0.9761\n",
            "Epoch 8/40\n",
            "600/600 [==============================] - 2s 3ms/step - loss: 0.0483 - accuracy: 0.9859 - val_loss: 0.0756 - val_accuracy: 0.9760\n",
            "Epoch 9/40\n",
            "600/600 [==============================] - 2s 3ms/step - loss: 0.0405 - accuracy: 0.9883 - val_loss: 0.0776 - val_accuracy: 0.9765\n",
            "Epoch 10/40\n",
            "600/600 [==============================] - 2s 3ms/step - loss: 0.0350 - accuracy: 0.9901 - val_loss: 0.0813 - val_accuracy: 0.9759\n",
            "Epoch 11/40\n",
            "600/600 [==============================] - 2s 3ms/step - loss: 0.0300 - accuracy: 0.9915 - val_loss: 0.0833 - val_accuracy: 0.9758\n",
            "Epoch 12/40\n",
            "600/600 [==============================] - 2s 3ms/step - loss: 0.0262 - accuracy: 0.9926 - val_loss: 0.0742 - val_accuracy: 0.9778\n",
            "Epoch 13/40\n",
            "600/600 [==============================] - 2s 3ms/step - loss: 0.0223 - accuracy: 0.9940 - val_loss: 0.0755 - val_accuracy: 0.9769\n",
            "Epoch 14/40\n",
            "600/600 [==============================] - 2s 3ms/step - loss: 0.0199 - accuracy: 0.9948 - val_loss: 0.0741 - val_accuracy: 0.9775\n",
            "Epoch 15/40\n",
            "600/600 [==============================] - 2s 3ms/step - loss: 0.0163 - accuracy: 0.9959 - val_loss: 0.0799 - val_accuracy: 0.9775\n",
            "Epoch 16/40\n",
            "600/600 [==============================] - 2s 3ms/step - loss: 0.0143 - accuracy: 0.9967 - val_loss: 0.0765 - val_accuracy: 0.9774\n",
            "Epoch 17/40\n",
            "600/600 [==============================] - 2s 3ms/step - loss: 0.0127 - accuracy: 0.9969 - val_loss: 0.0832 - val_accuracy: 0.9776\n",
            "Epoch 18/40\n",
            "600/600 [==============================] - 2s 3ms/step - loss: 0.0096 - accuracy: 0.9982 - val_loss: 0.0799 - val_accuracy: 0.9781\n",
            "Epoch 19/40\n",
            "600/600 [==============================] - 2s 3ms/step - loss: 0.0096 - accuracy: 0.9980 - val_loss: 0.0835 - val_accuracy: 0.9786\n",
            "Epoch 20/40\n",
            "600/600 [==============================] - 2s 3ms/step - loss: 0.0083 - accuracy: 0.9982 - val_loss: 0.0899 - val_accuracy: 0.9767\n",
            "Epoch 21/40\n",
            "600/600 [==============================] - 2s 3ms/step - loss: 0.0071 - accuracy: 0.9986 - val_loss: 0.0885 - val_accuracy: 0.9777\n",
            "Epoch 22/40\n",
            "600/600 [==============================] - 2s 3ms/step - loss: 0.0055 - accuracy: 0.9993 - val_loss: 0.0872 - val_accuracy: 0.9785\n",
            "Epoch 23/40\n",
            "600/600 [==============================] - 2s 3ms/step - loss: 0.0060 - accuracy: 0.9988 - val_loss: 0.0879 - val_accuracy: 0.9775\n",
            "Epoch 24/40\n",
            "600/600 [==============================] - 2s 3ms/step - loss: 0.0060 - accuracy: 0.9986 - val_loss: 0.0928 - val_accuracy: 0.9784\n",
            "Epoch 25/40\n",
            "600/600 [==============================] - 2s 3ms/step - loss: 0.0043 - accuracy: 0.9994 - val_loss: 0.1001 - val_accuracy: 0.9772\n",
            "Epoch 26/40\n",
            "600/600 [==============================] - 2s 3ms/step - loss: 0.0044 - accuracy: 0.9991 - val_loss: 0.0945 - val_accuracy: 0.9780\n",
            "Epoch 27/40\n",
            "600/600 [==============================] - 2s 3ms/step - loss: 0.0041 - accuracy: 0.9992 - val_loss: 0.1079 - val_accuracy: 0.9760\n",
            "Epoch 28/40\n",
            "600/600 [==============================] - 2s 3ms/step - loss: 0.0039 - accuracy: 0.9992 - val_loss: 0.0922 - val_accuracy: 0.9786\n",
            "Epoch 29/40\n",
            "600/600 [==============================] - 2s 3ms/step - loss: 0.0023 - accuracy: 0.9997 - val_loss: 0.0971 - val_accuracy: 0.9786\n",
            "Epoch 30/40\n",
            "600/600 [==============================] - 2s 3ms/step - loss: 0.0057 - accuracy: 0.9985 - val_loss: 0.1017 - val_accuracy: 0.9781\n",
            "Epoch 31/40\n",
            "600/600 [==============================] - 2s 3ms/step - loss: 0.0023 - accuracy: 0.9997 - val_loss: 0.1015 - val_accuracy: 0.9787\n",
            "Epoch 32/40\n",
            "600/600 [==============================] - 2s 4ms/step - loss: 0.0010 - accuracy: 0.9999 - val_loss: 0.1041 - val_accuracy: 0.9783\n",
            "Epoch 33/40\n",
            "600/600 [==============================] - 2s 3ms/step - loss: 0.0064 - accuracy: 0.9980 - val_loss: 0.1099 - val_accuracy: 0.9778\n",
            "Epoch 34/40\n",
            "600/600 [==============================] - 2s 3ms/step - loss: 0.0016 - accuracy: 0.9998 - val_loss: 0.1031 - val_accuracy: 0.9785\n",
            "Epoch 35/40\n",
            "600/600 [==============================] - 2s 3ms/step - loss: 5.7918e-04 - accuracy: 1.0000 - val_loss: 0.1024 - val_accuracy: 0.9799\n",
            "Epoch 36/40\n",
            "600/600 [==============================] - 2s 3ms/step - loss: 4.8492e-04 - accuracy: 1.0000 - val_loss: 0.1044 - val_accuracy: 0.9801\n",
            "Epoch 37/40\n",
            "600/600 [==============================] - 2s 3ms/step - loss: 4.3736e-04 - accuracy: 1.0000 - val_loss: 0.1040 - val_accuracy: 0.9792\n",
            "Epoch 38/40\n",
            "600/600 [==============================] - 2s 3ms/step - loss: 4.0942e-04 - accuracy: 1.0000 - val_loss: 0.1074 - val_accuracy: 0.9792\n",
            "Epoch 39/40\n",
            "600/600 [==============================] - 2s 3ms/step - loss: 0.0115 - accuracy: 0.9969 - val_loss: 0.1331 - val_accuracy: 0.9737\n",
            "Epoch 40/40\n",
            "600/600 [==============================] - 2s 3ms/step - loss: 0.0041 - accuracy: 0.9989 - val_loss: 0.1146 - val_accuracy: 0.9778\n"
          ]
        }
      ]
    },
    {
      "cell_type": "code",
      "source": [
        "import matplotlib.pyplot as plt\n",
        "\n",
        "accuracy = model1.history['accuracy']\n",
        "val_accuracy = model1.history['val_accuracy']\n",
        "\n",
        "plt.plot(accuracy,'b', label='Training accuracy')\n",
        "plt.plot(val_accuracy, 'r' ,label='Testing accuracy')\n",
        "plt.title('Training and Testing accuracy')\n",
        "plt.legend(['train', 'test'], loc='upper left')\n",
        "plt.show()\n",
        "     "
      ],
      "metadata": {
        "colab": {
          "base_uri": "https://localhost:8080/",
          "height": 281
        },
        "id": "ebvmDMhNANYV",
        "outputId": "38371e58-4e93-499f-c3aa-ef52cd6d98f2"
      },
      "execution_count": 63,
      "outputs": [
        {
          "output_type": "display_data",
          "data": {
            "text/plain": [
              "<Figure size 432x288 with 1 Axes>"
            ],
            "image/png": "[encoded data removed]"
          },
          "metadata": {
            "needs_background": "light"
          }
        }
      ]
    },
    {
      "cell_type": "markdown",
      "source": [
        "# cross entropy and SGD"
      ],
      "metadata": {
        "id": "dbQDa5rR_BBJ"
      }
    },
    {
      "cell_type": "code",
      "source": [
        "loss = 'categorical_crossentropy'\n",
        "optimizer = 'sgd'\n",
        "NN_model = create_model1(loss,optimizer,number_of_units_in_hidden_layer)\n",
        "model2= NN_model.fit(x_train, y_train_OHE, epochs=40, batch_size = 100, verbose=1,validation_data=(x_test, y_test_OHE))"
      ],
      "metadata": {
        "colab": {
          "base_uri": "https://localhost:8080/"
        },
        "id": "m-3uRf0w_-3t",
        "outputId": "9125a586-4160-4a2f-8a78-298ec0a028ca"
      },
      "execution_count": 64,
      "outputs": [
        {
          "output_type": "stream",
          "name": "stdout",
          "text": [
            "Epoch 1/40\n",
            "600/600 [==============================] - 2s 3ms/step - loss: 1.0522 - accuracy: 0.7533 - val_loss: 0.5637 - val_accuracy: 0.8695\n",
            "Epoch 2/40\n",
            "600/600 [==============================] - 2s 3ms/step - loss: 0.4930 - accuracy: 0.8756 - val_loss: 0.4147 - val_accuracy: 0.8948\n",
            "Epoch 3/40\n",
            "600/600 [==============================] - 2s 3ms/step - loss: 0.4027 - accuracy: 0.8912 - val_loss: 0.3615 - val_accuracy: 0.9034\n",
            "Epoch 4/40\n",
            "600/600 [==============================] - 2s 3ms/step - loss: 0.3621 - accuracy: 0.8997 - val_loss: 0.3324 - val_accuracy: 0.9091\n",
            "Epoch 5/40\n",
            "600/600 [==============================] - 2s 3ms/step - loss: 0.3365 - accuracy: 0.9053 - val_loss: 0.3136 - val_accuracy: 0.9132\n",
            "Epoch 6/40\n",
            "600/600 [==============================] - 2s 3ms/step - loss: 0.3181 - accuracy: 0.9103 - val_loss: 0.2980 - val_accuracy: 0.9164\n",
            "Epoch 7/40\n",
            "600/600 [==============================] - 1s 2ms/step - loss: 0.3035 - accuracy: 0.9147 - val_loss: 0.2859 - val_accuracy: 0.9190\n",
            "Epoch 8/40\n",
            "600/600 [==============================] - 2s 3ms/step - loss: 0.2913 - accuracy: 0.9178 - val_loss: 0.2769 - val_accuracy: 0.9220\n",
            "Epoch 9/40\n",
            "600/600 [==============================] - 2s 3ms/step - loss: 0.2808 - accuracy: 0.9207 - val_loss: 0.2682 - val_accuracy: 0.9253\n",
            "Epoch 10/40\n",
            "600/600 [==============================] - 2s 3ms/step - loss: 0.2712 - accuracy: 0.9230 - val_loss: 0.2596 - val_accuracy: 0.9268\n",
            "Epoch 11/40\n",
            "600/600 [==============================] - 2s 3ms/step - loss: 0.2627 - accuracy: 0.9259 - val_loss: 0.2521 - val_accuracy: 0.9288\n",
            "Epoch 12/40\n",
            "600/600 [==============================] - 2s 3ms/step - loss: 0.2551 - accuracy: 0.9278 - val_loss: 0.2459 - val_accuracy: 0.9316\n",
            "Epoch 13/40\n",
            "600/600 [==============================] - 2s 3ms/step - loss: 0.2477 - accuracy: 0.9307 - val_loss: 0.2391 - val_accuracy: 0.9325\n",
            "Epoch 14/40\n",
            "600/600 [==============================] - 2s 3ms/step - loss: 0.2411 - accuracy: 0.9326 - val_loss: 0.2342 - val_accuracy: 0.9338\n",
            "Epoch 15/40\n",
            "600/600 [==============================] - 2s 3ms/step - loss: 0.2349 - accuracy: 0.9344 - val_loss: 0.2276 - val_accuracy: 0.9365\n",
            "Epoch 16/40\n",
            "600/600 [==============================] - 2s 3ms/step - loss: 0.2291 - accuracy: 0.9361 - val_loss: 0.2233 - val_accuracy: 0.9370\n",
            "Epoch 17/40\n",
            "600/600 [==============================] - 1s 2ms/step - loss: 0.2235 - accuracy: 0.9377 - val_loss: 0.2186 - val_accuracy: 0.9380\n",
            "Epoch 18/40\n",
            "600/600 [==============================] - 1s 2ms/step - loss: 0.2184 - accuracy: 0.9387 - val_loss: 0.2138 - val_accuracy: 0.9395\n",
            "Epoch 19/40\n",
            "600/600 [==============================] - 2s 3ms/step - loss: 0.2134 - accuracy: 0.9405 - val_loss: 0.2107 - val_accuracy: 0.9407\n",
            "Epoch 20/40\n",
            "600/600 [==============================] - 1s 2ms/step - loss: 0.2088 - accuracy: 0.9420 - val_loss: 0.2059 - val_accuracy: 0.9415\n",
            "Epoch 21/40\n",
            "600/600 [==============================] - 1s 2ms/step - loss: 0.2043 - accuracy: 0.9433 - val_loss: 0.2026 - val_accuracy: 0.9421\n",
            "Epoch 22/40\n",
            "600/600 [==============================] - 2s 3ms/step - loss: 0.2000 - accuracy: 0.9444 - val_loss: 0.1982 - val_accuracy: 0.9423\n",
            "Epoch 23/40\n",
            "600/600 [==============================] - 2s 3ms/step - loss: 0.1959 - accuracy: 0.9458 - val_loss: 0.1943 - val_accuracy: 0.9444\n",
            "Epoch 24/40\n",
            "600/600 [==============================] - 1s 2ms/step - loss: 0.1919 - accuracy: 0.9465 - val_loss: 0.1922 - val_accuracy: 0.9448\n",
            "Epoch 25/40\n",
            "600/600 [==============================] - 2s 3ms/step - loss: 0.1883 - accuracy: 0.9475 - val_loss: 0.1877 - val_accuracy: 0.9459\n",
            "Epoch 26/40\n",
            "600/600 [==============================] - 2s 3ms/step - loss: 0.1846 - accuracy: 0.9484 - val_loss: 0.1849 - val_accuracy: 0.9469\n",
            "Epoch 27/40\n",
            "600/600 [==============================] - 2s 3ms/step - loss: 0.1811 - accuracy: 0.9495 - val_loss: 0.1823 - val_accuracy: 0.9471\n",
            "Epoch 28/40\n",
            "600/600 [==============================] - 2s 3ms/step - loss: 0.1778 - accuracy: 0.9506 - val_loss: 0.1788 - val_accuracy: 0.9478\n",
            "Epoch 29/40\n",
            "600/600 [==============================] - 2s 3ms/step - loss: 0.1747 - accuracy: 0.9511 - val_loss: 0.1761 - val_accuracy: 0.9489\n",
            "Epoch 30/40\n",
            "600/600 [==============================] - 1s 2ms/step - loss: 0.1715 - accuracy: 0.9522 - val_loss: 0.1735 - val_accuracy: 0.9499\n",
            "Epoch 31/40\n",
            "600/600 [==============================] - 2s 3ms/step - loss: 0.1684 - accuracy: 0.9531 - val_loss: 0.1711 - val_accuracy: 0.9498\n",
            "Epoch 32/40\n",
            "600/600 [==============================] - 2s 3ms/step - loss: 0.1657 - accuracy: 0.9538 - val_loss: 0.1690 - val_accuracy: 0.9502\n",
            "Epoch 33/40\n",
            "600/600 [==============================] - 2s 3ms/step - loss: 0.1629 - accuracy: 0.9543 - val_loss: 0.1660 - val_accuracy: 0.9520\n",
            "Epoch 34/40\n",
            "600/600 [==============================] - 2s 3ms/step - loss: 0.1601 - accuracy: 0.9550 - val_loss: 0.1639 - val_accuracy: 0.9532\n",
            "Epoch 35/40\n",
            "600/600 [==============================] - 2s 3ms/step - loss: 0.1575 - accuracy: 0.9561 - val_loss: 0.1614 - val_accuracy: 0.9523\n",
            "Epoch 36/40\n",
            "600/600 [==============================] - 2s 3ms/step - loss: 0.1550 - accuracy: 0.9568 - val_loss: 0.1598 - val_accuracy: 0.9536\n",
            "Epoch 37/40\n",
            "600/600 [==============================] - 1s 2ms/step - loss: 0.1527 - accuracy: 0.9569 - val_loss: 0.1572 - val_accuracy: 0.9537\n",
            "Epoch 38/40\n",
            "600/600 [==============================] - 2s 3ms/step - loss: 0.1502 - accuracy: 0.9579 - val_loss: 0.1556 - val_accuracy: 0.9535\n",
            "Epoch 39/40\n",
            "600/600 [==============================] - 2s 3ms/step - loss: 0.1479 - accuracy: 0.9584 - val_loss: 0.1535 - val_accuracy: 0.9553\n",
            "Epoch 40/40\n",
            "600/600 [==============================] - 1s 2ms/step - loss: 0.1458 - accuracy: 0.9589 - val_loss: 0.1516 - val_accuracy: 0.9555\n"
          ]
        }
      ]
    },
    {
      "cell_type": "code",
      "source": [
        "import matplotlib.pyplot as plt\n",
        "\n",
        "accuracy = model2.history['accuracy']\n",
        "val_accuracy = model2.history['val_accuracy']\n",
        "\n",
        "plt.plot(accuracy,'b', label='Training accuracy')\n",
        "plt.plot(val_accuracy, 'r' ,label='Testing accuracy')\n",
        "plt.title('Training and Testing accuracy')\n",
        "plt.legend(['train', 'test'], loc='upper left')\n",
        "plt.show()\n",
        "     "
      ],
      "metadata": {
        "colab": {
          "base_uri": "https://localhost:8080/",
          "height": 281
        },
        "id": "aHcfpvp5AW7z",
        "outputId": "c96f0b33-5539-415c-f16d-7e9d7a53c912"
      },
      "execution_count": 65,
      "outputs": [
        {
          "output_type": "display_data",
          "data": {
            "text/plain": [
              "<Figure size 432x288 with 1 Axes>"
            ],
            "image/png": "[encoded data removed]"
          },
          "metadata": {
            "needs_background": "light"
          }
        }
      ]
    },
    {
      "cell_type": "markdown",
      "source": [
        "# MSE and Adam"
      ],
      "metadata": {
        "id": "9H2J7KUF_V7S"
      }
    },
    {
      "cell_type": "code",
      "source": [
        "loss = 'mse'\n",
        "optimizer = 'adam'\n",
        "NN_model = create_model1(loss,optimizer,number_of_units_in_hidden_layer)\n",
        "model3= NN_model.fit(x_train, y_train_OHE, epochs=40, batch_size = 100, verbose=1,validation_data=(x_test, y_test_OHE))"
      ],
      "metadata": {
        "colab": {
          "base_uri": "https://localhost:8080/"
        },
        "id": "08UIRo5OAAIB",
        "outputId": "193a80b7-da4c-496a-da3c-e664c5d6bddd"
      },
      "execution_count": 66,
      "outputs": [
        {
          "output_type": "stream",
          "name": "stdout",
          "text": [
            "Epoch 1/40\n",
            "600/600 [==============================] - 2s 3ms/step - loss: 0.0156 - accuracy: 0.8993 - val_loss: 0.0086 - val_accuracy: 0.9441\n",
            "Epoch 2/40\n",
            "600/600 [==============================] - 1s 2ms/step - loss: 0.0076 - accuracy: 0.9524 - val_loss: 0.0065 - val_accuracy: 0.9583\n",
            "Epoch 3/40\n",
            "600/600 [==============================] - 1s 2ms/step - loss: 0.0057 - accuracy: 0.9646 - val_loss: 0.0056 - val_accuracy: 0.9640\n",
            "Epoch 4/40\n",
            "600/600 [==============================] - 2s 3ms/step - loss: 0.0046 - accuracy: 0.9722 - val_loss: 0.0050 - val_accuracy: 0.9669\n",
            "Epoch 5/40\n",
            "600/600 [==============================] - 1s 2ms/step - loss: 0.0038 - accuracy: 0.9773 - val_loss: 0.0045 - val_accuracy: 0.9709\n",
            "Epoch 6/40\n",
            "600/600 [==============================] - 1s 2ms/step - loss: 0.0032 - accuracy: 0.9810 - val_loss: 0.0046 - val_accuracy: 0.9695\n",
            "Epoch 7/40\n",
            "600/600 [==============================] - 2s 3ms/step - loss: 0.0028 - accuracy: 0.9835 - val_loss: 0.0039 - val_accuracy: 0.9746\n",
            "Epoch 8/40\n",
            "600/600 [==============================] - 2s 3ms/step - loss: 0.0024 - accuracy: 0.9858 - val_loss: 0.0038 - val_accuracy: 0.9752\n",
            "Epoch 9/40\n",
            "600/600 [==============================] - 1s 2ms/step - loss: 0.0022 - accuracy: 0.9880 - val_loss: 0.0036 - val_accuracy: 0.9756\n",
            "Epoch 10/40\n",
            "600/600 [==============================] - 2s 3ms/step - loss: 0.0019 - accuracy: 0.9894 - val_loss: 0.0035 - val_accuracy: 0.9770\n",
            "Epoch 11/40\n",
            "600/600 [==============================] - 2s 3ms/step - loss: 0.0017 - accuracy: 0.9909 - val_loss: 0.0035 - val_accuracy: 0.9771\n",
            "Epoch 12/40\n",
            "600/600 [==============================] - 2s 3ms/step - loss: 0.0015 - accuracy: 0.9923 - val_loss: 0.0037 - val_accuracy: 0.9756\n",
            "Epoch 13/40\n",
            "600/600 [==============================] - 2s 3ms/step - loss: 0.0014 - accuracy: 0.9929 - val_loss: 0.0037 - val_accuracy: 0.9751\n",
            "Epoch 14/40\n",
            "600/600 [==============================] - 2s 3ms/step - loss: 0.0012 - accuracy: 0.9935 - val_loss: 0.0033 - val_accuracy: 0.9786\n",
            "Epoch 15/40\n",
            "600/600 [==============================] - 2s 3ms/step - loss: 0.0011 - accuracy: 0.9941 - val_loss: 0.0036 - val_accuracy: 0.9765\n",
            "Epoch 16/40\n",
            "600/600 [==============================] - 1s 2ms/step - loss: 0.0010 - accuracy: 0.9946 - val_loss: 0.0034 - val_accuracy: 0.9769\n",
            "Epoch 17/40\n",
            "600/600 [==============================] - 1s 2ms/step - loss: 9.8296e-04 - accuracy: 0.9950 - val_loss: 0.0034 - val_accuracy: 0.9792\n",
            "Epoch 18/40\n",
            "600/600 [==============================] - 2s 3ms/step - loss: 8.8505e-04 - accuracy: 0.9956 - val_loss: 0.0034 - val_accuracy: 0.9783\n",
            "Epoch 19/40\n",
            "600/600 [==============================] - 1s 2ms/step - loss: 8.7321e-04 - accuracy: 0.9955 - val_loss: 0.0035 - val_accuracy: 0.9766\n",
            "Epoch 20/40\n",
            "600/600 [==============================] - 1s 2ms/step - loss: 7.9705e-04 - accuracy: 0.9959 - val_loss: 0.0035 - val_accuracy: 0.9764\n",
            "Epoch 21/40\n",
            "600/600 [==============================] - 2s 3ms/step - loss: 7.7214e-04 - accuracy: 0.9960 - val_loss: 0.0035 - val_accuracy: 0.9775\n",
            "Epoch 22/40\n",
            "600/600 [==============================] - 1s 2ms/step - loss: 7.0091e-04 - accuracy: 0.9963 - val_loss: 0.0035 - val_accuracy: 0.9773\n",
            "Epoch 23/40\n",
            "600/600 [==============================] - 1s 2ms/step - loss: 7.1786e-04 - accuracy: 0.9962 - val_loss: 0.0034 - val_accuracy: 0.9781\n",
            "Epoch 24/40\n",
            "600/600 [==============================] - 1s 2ms/step - loss: 6.2593e-04 - accuracy: 0.9967 - val_loss: 0.0036 - val_accuracy: 0.9772\n",
            "Epoch 25/40\n",
            "600/600 [==============================] - 1s 2ms/step - loss: 6.4797e-04 - accuracy: 0.9967 - val_loss: 0.0033 - val_accuracy: 0.9788\n",
            "Epoch 26/40\n",
            "600/600 [==============================] - 2s 3ms/step - loss: 6.2611e-04 - accuracy: 0.9967 - val_loss: 0.0036 - val_accuracy: 0.9764\n",
            "Epoch 27/40\n",
            "600/600 [==============================] - 2s 3ms/step - loss: 5.6827e-04 - accuracy: 0.9971 - val_loss: 0.0035 - val_accuracy: 0.9780\n",
            "Epoch 28/40\n",
            "600/600 [==============================] - 1s 2ms/step - loss: 5.7052e-04 - accuracy: 0.9970 - val_loss: 0.0037 - val_accuracy: 0.9767\n",
            "Epoch 29/40\n",
            "600/600 [==============================] - 2s 3ms/step - loss: 5.8043e-04 - accuracy: 0.9969 - val_loss: 0.0039 - val_accuracy: 0.9750\n",
            "Epoch 30/40\n",
            "600/600 [==============================] - 2s 3ms/step - loss: 5.1943e-04 - accuracy: 0.9973 - val_loss: 0.0037 - val_accuracy: 0.9763\n",
            "Epoch 31/40\n",
            "600/600 [==============================] - 1s 2ms/step - loss: 5.8202e-04 - accuracy: 0.9969 - val_loss: 0.0037 - val_accuracy: 0.9766\n",
            "Epoch 32/40\n",
            "600/600 [==============================] - 1s 2ms/step - loss: 5.0325e-04 - accuracy: 0.9973 - val_loss: 0.0034 - val_accuracy: 0.9780\n",
            "Epoch 33/40\n",
            "600/600 [==============================] - 1s 2ms/step - loss: 5.0676e-04 - accuracy: 0.9973 - val_loss: 0.0039 - val_accuracy: 0.9763\n",
            "Epoch 34/40\n",
            "600/600 [==============================] - 2s 3ms/step - loss: 4.1520e-04 - accuracy: 0.9980 - val_loss: 0.0037 - val_accuracy: 0.9776\n",
            "Epoch 35/40\n",
            "600/600 [==============================] - 2s 3ms/step - loss: 4.7162e-04 - accuracy: 0.9975 - val_loss: 0.0036 - val_accuracy: 0.9772\n",
            "Epoch 36/40\n",
            "600/600 [==============================] - 1s 2ms/step - loss: 3.8049e-04 - accuracy: 0.9981 - val_loss: 0.0037 - val_accuracy: 0.9774\n",
            "Epoch 37/40\n",
            "600/600 [==============================] - 1s 2ms/step - loss: 3.9531e-04 - accuracy: 0.9979 - val_loss: 0.0036 - val_accuracy: 0.9788\n",
            "Epoch 38/40\n",
            "600/600 [==============================] - 2s 3ms/step - loss: 4.3060e-04 - accuracy: 0.9977 - val_loss: 0.0039 - val_accuracy: 0.9756\n",
            "Epoch 39/40\n",
            "600/600 [==============================] - 1s 2ms/step - loss: 4.4305e-04 - accuracy: 0.9977 - val_loss: 0.0036 - val_accuracy: 0.9774\n",
            "Epoch 40/40\n",
            "600/600 [==============================] - 1s 2ms/step - loss: 4.1765e-04 - accuracy: 0.9978 - val_loss: 0.0038 - val_accuracy: 0.9754\n"
          ]
        }
      ]
    },
    {
      "cell_type": "code",
      "source": [
        "import matplotlib.pyplot as plt\n",
        "\n",
        "accuracy = model3.history['accuracy']\n",
        "val_accuracy = model3.history['val_accuracy']\n",
        "\n",
        "plt.plot(accuracy,'b', label='Training accuracy')\n",
        "plt.plot(val_accuracy, 'r' ,label='Testing accuracy')\n",
        "plt.title('Training and Testing accuracy')\n",
        "plt.legend(['train', 'test'], loc='upper left')\n",
        "plt.show()\n",
        "     "
      ],
      "metadata": {
        "colab": {
          "base_uri": "https://localhost:8080/",
          "height": 281
        },
        "id": "vf9i_nWAAX-3",
        "outputId": "99fd2c42-6784-4329-8c78-dbde2650a578"
      },
      "execution_count": 67,
      "outputs": [
        {
          "output_type": "display_data",
          "data": {
            "text/plain": [
              "<Figure size 432x288 with 1 Axes>"
            ],
            "image/png": "[encoded data removed]"
          },
          "metadata": {
            "needs_background": "light"
          }
        }
      ]
    },
    {
      "cell_type": "markdown",
      "source": [
        "# MSE and SGD"
      ],
      "metadata": {
        "id": "tIa3XaOO_7ws"
      }
    },
    {
      "cell_type": "code",
      "source": [
        "loss = 'mse'\n",
        "optimizer = 'sgd'\n",
        "NN_model = create_model1(loss,optimizer,number_of_units_in_hidden_layer)\n",
        "model4= NN_model.fit(x_train, y_train_OHE, epochs=40, batch_size = 100, verbose=1,validation_data=(x_test, y_test_OHE))"
      ],
      "metadata": {
        "colab": {
          "base_uri": "https://localhost:8080/"
        },
        "id": "Qqk7TSWiAA9Z",
        "outputId": "8ee87d0d-7eb5-4e02-e7a6-46c9bb1ab1cb"
      },
      "execution_count": 68,
      "outputs": [
        {
          "output_type": "stream",
          "name": "stdout",
          "text": [
            "Epoch 1/40\n",
            "600/600 [==============================] - 2s 3ms/step - loss: 0.0901 - accuracy: 0.1565 - val_loss: 0.0887 - val_accuracy: 0.2110\n",
            "Epoch 2/40\n",
            "600/600 [==============================] - 1s 2ms/step - loss: 0.0873 - accuracy: 0.2607 - val_loss: 0.0857 - val_accuracy: 0.3075\n",
            "Epoch 3/40\n",
            "600/600 [==============================] - 2s 3ms/step - loss: 0.0841 - accuracy: 0.3431 - val_loss: 0.0823 - val_accuracy: 0.3797\n",
            "Epoch 4/40\n",
            "600/600 [==============================] - 1s 2ms/step - loss: 0.0807 - accuracy: 0.4177 - val_loss: 0.0787 - val_accuracy: 0.4566\n",
            "Epoch 5/40\n",
            "600/600 [==============================] - 1s 2ms/step - loss: 0.0770 - accuracy: 0.4875 - val_loss: 0.0748 - val_accuracy: 0.5205\n",
            "Epoch 6/40\n",
            "600/600 [==============================] - 1s 2ms/step - loss: 0.0730 - accuracy: 0.5459 - val_loss: 0.0706 - val_accuracy: 0.5755\n",
            "Epoch 7/40\n",
            "600/600 [==============================] - 2s 3ms/step - loss: 0.0687 - accuracy: 0.5927 - val_loss: 0.0661 - val_accuracy: 0.6141\n",
            "Epoch 8/40\n",
            "600/600 [==============================] - 1s 2ms/step - loss: 0.0643 - accuracy: 0.6249 - val_loss: 0.0615 - val_accuracy: 0.6408\n",
            "Epoch 9/40\n",
            "600/600 [==============================] - 2s 3ms/step - loss: 0.0600 - accuracy: 0.6462 - val_loss: 0.0573 - val_accuracy: 0.6580\n",
            "Epoch 10/40\n",
            "600/600 [==============================] - 1s 2ms/step - loss: 0.0561 - accuracy: 0.6618 - val_loss: 0.0536 - val_accuracy: 0.6740\n",
            "Epoch 11/40\n",
            "600/600 [==============================] - 1s 2ms/step - loss: 0.0527 - accuracy: 0.6762 - val_loss: 0.0502 - val_accuracy: 0.6878\n",
            "Epoch 12/40\n",
            "600/600 [==============================] - 2s 3ms/step - loss: 0.0496 - accuracy: 0.6925 - val_loss: 0.0472 - val_accuracy: 0.7074\n",
            "Epoch 13/40\n",
            "600/600 [==============================] - 1s 2ms/step - loss: 0.0467 - accuracy: 0.7162 - val_loss: 0.0444 - val_accuracy: 0.7356\n",
            "Epoch 14/40\n",
            "600/600 [==============================] - 1s 2ms/step - loss: 0.0441 - accuracy: 0.7434 - val_loss: 0.0419 - val_accuracy: 0.7603\n",
            "Epoch 15/40\n",
            "600/600 [==============================] - 1s 2ms/step - loss: 0.0417 - accuracy: 0.7628 - val_loss: 0.0396 - val_accuracy: 0.7832\n",
            "Epoch 16/40\n",
            "600/600 [==============================] - 1s 2ms/step - loss: 0.0395 - accuracy: 0.7809 - val_loss: 0.0375 - val_accuracy: 0.7985\n",
            "Epoch 17/40\n",
            "600/600 [==============================] - 1s 2ms/step - loss: 0.0376 - accuracy: 0.7959 - val_loss: 0.0356 - val_accuracy: 0.8134\n",
            "Epoch 18/40\n",
            "600/600 [==============================] - 2s 3ms/step - loss: 0.0358 - accuracy: 0.8101 - val_loss: 0.0339 - val_accuracy: 0.8244\n",
            "Epoch 19/40\n",
            "600/600 [==============================] - 2s 3ms/step - loss: 0.0342 - accuracy: 0.8210 - val_loss: 0.0324 - val_accuracy: 0.8315\n",
            "Epoch 20/40\n",
            "600/600 [==============================] - 2s 3ms/step - loss: 0.0328 - accuracy: 0.8284 - val_loss: 0.0310 - val_accuracy: 0.8385\n",
            "Epoch 21/40\n",
            "600/600 [==============================] - 2s 3ms/step - loss: 0.0315 - accuracy: 0.8344 - val_loss: 0.0298 - val_accuracy: 0.8449\n",
            "Epoch 22/40\n",
            "600/600 [==============================] - 2s 3ms/step - loss: 0.0304 - accuracy: 0.8399 - val_loss: 0.0287 - val_accuracy: 0.8491\n",
            "Epoch 23/40\n",
            "600/600 [==============================] - 2s 3ms/step - loss: 0.0293 - accuracy: 0.8443 - val_loss: 0.0277 - val_accuracy: 0.8531\n",
            "Epoch 24/40\n",
            "600/600 [==============================] - 1s 2ms/step - loss: 0.0284 - accuracy: 0.8490 - val_loss: 0.0269 - val_accuracy: 0.8572\n",
            "Epoch 25/40\n",
            "600/600 [==============================] - 1s 2ms/step - loss: 0.0275 - accuracy: 0.8525 - val_loss: 0.0261 - val_accuracy: 0.8604\n",
            "Epoch 26/40\n",
            "600/600 [==============================] - 1s 2ms/step - loss: 0.0268 - accuracy: 0.8556 - val_loss: 0.0253 - val_accuracy: 0.8632\n",
            "Epoch 27/40\n",
            "600/600 [==============================] - 1s 2ms/step - loss: 0.0261 - accuracy: 0.8591 - val_loss: 0.0247 - val_accuracy: 0.8656\n",
            "Epoch 28/40\n",
            "600/600 [==============================] - 2s 3ms/step - loss: 0.0255 - accuracy: 0.8615 - val_loss: 0.0241 - val_accuracy: 0.8675\n",
            "Epoch 29/40\n",
            "600/600 [==============================] - 1s 2ms/step - loss: 0.0249 - accuracy: 0.8638 - val_loss: 0.0235 - val_accuracy: 0.8700\n",
            "Epoch 30/40\n",
            "600/600 [==============================] - 2s 3ms/step - loss: 0.0243 - accuracy: 0.8659 - val_loss: 0.0230 - val_accuracy: 0.8721\n",
            "Epoch 31/40\n",
            "600/600 [==============================] - 2s 3ms/step - loss: 0.0239 - accuracy: 0.8676 - val_loss: 0.0226 - val_accuracy: 0.8744\n",
            "Epoch 32/40\n",
            "600/600 [==============================] - 1s 2ms/step - loss: 0.0234 - accuracy: 0.8695 - val_loss: 0.0221 - val_accuracy: 0.8761\n",
            "Epoch 33/40\n",
            "600/600 [==============================] - 2s 3ms/step - loss: 0.0230 - accuracy: 0.8713 - val_loss: 0.0217 - val_accuracy: 0.8794\n",
            "Epoch 34/40\n",
            "600/600 [==============================] - 1s 2ms/step - loss: 0.0226 - accuracy: 0.8728 - val_loss: 0.0214 - val_accuracy: 0.8807\n",
            "Epoch 35/40\n",
            "600/600 [==============================] - 2s 3ms/step - loss: 0.0222 - accuracy: 0.8740 - val_loss: 0.0210 - val_accuracy: 0.8823\n",
            "Epoch 36/40\n",
            "600/600 [==============================] - 1s 2ms/step - loss: 0.0219 - accuracy: 0.8757 - val_loss: 0.0207 - val_accuracy: 0.8831\n",
            "Epoch 37/40\n",
            "600/600 [==============================] - 1s 2ms/step - loss: 0.0216 - accuracy: 0.8770 - val_loss: 0.0204 - val_accuracy: 0.8847\n",
            "Epoch 38/40\n",
            "600/600 [==============================] - 2s 3ms/step - loss: 0.0213 - accuracy: 0.8780 - val_loss: 0.0201 - val_accuracy: 0.8862\n",
            "Epoch 39/40\n",
            "600/600 [==============================] - 1s 2ms/step - loss: 0.0210 - accuracy: 0.8791 - val_loss: 0.0198 - val_accuracy: 0.8870\n",
            "Epoch 40/40\n",
            "600/600 [==============================] - 2s 3ms/step - loss: 0.0207 - accuracy: 0.8804 - val_loss: 0.0196 - val_accuracy: 0.8882\n"
          ]
        }
      ]
    },
    {
      "cell_type": "code",
      "source": [
        "import matplotlib.pyplot as plt\n",
        "\n",
        "accuracy = model4.history['accuracy']\n",
        "val_accuracy = model4.history['val_accuracy']\n",
        "\n",
        "plt.plot(accuracy,'b', label='Training accuracy')\n",
        "plt.plot(val_accuracy, 'r' ,label='Testing accuracy')\n",
        "plt.title('Training and Testing accuracy')\n",
        "plt.legend(['train', 'test'], loc='upper left')\n",
        "plt.show()\n",
        "     "
      ],
      "metadata": {
        "colab": {
          "base_uri": "https://localhost:8080/",
          "height": 281
        },
        "id": "Fty4dhaKAYnq",
        "outputId": "ce6ad9cd-932a-4452-ac4c-4d1c29b15b9f"
      },
      "execution_count": 70,
      "outputs": [
        {
          "output_type": "display_data",
          "data": {
            "text/plain": [
              "<Figure size 432x288 with 1 Axes>"
            ],
            "image/png": "[encoded data removed]"
          },
          "metadata": {
            "needs_background": "light"
          }
        }
      ]
    },
    {
      "cell_type": "markdown",
      "source": [
        "# Cross Entropy and SGD seem to produce the best performance since the training and testing accuracy is best. The model of with MSE and SGD might produce better accuracy but the data might be overfitting so it might not be the best model to chose for performance on unseen validation data. "
      ],
      "metadata": {
        "id": "yQ4LVu9TF_YH"
      }
    }
  ]
}
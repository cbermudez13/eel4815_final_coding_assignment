{
  "nbformat": 4,
  "nbformat_minor": 0,
  "metadata": {
    "colab": {
      "provenance": [],
      "authorship_tag": "ABX9TyNf2RY4jVoVCWzLljqCp/Ba",
      "include_colab_link": true
    },
    "kernelspec": {
      "name": "python3",
      "display_name": "Python 3"
    },
    "language_info": {
      "name": "python"
    }
  },
  "cells": [
    {
      "cell_type": "markdown",
      "metadata": {
        "id": "view-in-github",
        "colab_type": "text"
      },
      "source": [
        "<a href=\"https://colab.research.google.com/github/cbermudez13/eel4815_final_coding_assignment/blob/main/group_1_problem_10.ipynb\" target=\"_parent\"><img src=\"https://colab.research.google.com/assets/colab-badge.svg\" alt=\"Open In Colab\"/></a>"
      ]
    },
    {
      "cell_type": "code",
      "execution_count": 19,
      "metadata": {
        "id": "1vfHPCBtqoxS",
        "colab": {
          "base_uri": "https://localhost:8080/"
        },
        "outputId": "7d8da8ec-2c62-403c-a278-07917f876023"
      },
      "outputs": [
        {
          "output_type": "stream",
          "name": "stdout",
          "text": [
            "datapoint 0 =  [ 0.27829033  0.27474913  0.22174859  0.8600371   0.63299983  0.53884985\n",
            " -0.82919815  0.33000546]\n",
            "datapoint 1 =  [-0.36961352  0.05105697  0.29169876  0.50129095 -0.88794542  0.74841174\n",
            " -0.29252993  0.60886138]\n",
            "datapoint 2 =  [-0.90045225 -0.02007737  0.01436786 -0.24514244 -0.56103477  0.52872486\n",
            "  0.20571251  0.39759014]\n",
            "datapoint 3 =  [-0.21251461 -0.24130074 -0.01148743  0.66185076 -0.76515153 -0.68163008\n",
            "  0.15700348 -0.44708878]\n",
            "datapoint 4 =  [-0.42702955  0.23633954 -0.48257607 -0.75109729  0.77145566  0.49831414\n",
            "  0.03404134 -0.75171658]\n",
            "datapoint 5 =  [-0.19707532 -0.90754503 -0.14391801  0.46785546  0.68663869 -0.20283691\n",
            "  0.63587754 -0.83093676]\n",
            "datapoint 6 =  [-0.57319652  0.1050368  -0.33181649 -0.27484692  0.3100581   0.39557794\n",
            "  0.20901428  0.92593281]\n",
            "datapoint 7 =  [-0.99689456  0.13580354 -0.70581406 -0.13221598  0.69676654 -0.74657357\n",
            "  0.16037686 -0.33393912]\n",
            "datapoint 8 =  [-0.26862693  0.41014699  0.9590418  -0.22670193  0.03145369  0.76785701\n",
            "  0.35338042 -0.1286357 ]\n",
            "datapoint 9 =  [ 0.76432143  0.03432182  0.7336184  -0.58231513 -0.7701833   0.13614062\n",
            "  0.52330018 -0.01054551]\n",
            "datapoint 10 =  [-0.42869023 -0.33079055 -0.57423067 -0.16938147 -0.76272906  0.04347379\n",
            " -0.7975385   0.51680686]\n",
            "datapoint 11 =  [ 0.20724056 -0.27989464  0.62592938  0.68998353  0.62471155  0.8234756\n",
            "  0.73134469 -0.37168375]\n",
            "datapoint 12 =  [ 0.69999874  0.43051775  0.84709658 -0.71005973  0.15715943 -0.57284685\n",
            " -0.81115001 -0.1415475 ]\n",
            "datapoint 13 =  [-0.49608974 -0.79544948  0.08737113  0.69462793 -0.45796833  0.28467664\n",
            " -0.72279354 -0.28732835]\n",
            "datapoint 14 =  [-0.03554311  0.85381257 -0.81027    -0.61153056 -0.70832769 -0.48972222\n",
            "  0.10032477  0.91677592]\n",
            "datapoint 15 =  [ 0.02636127  0.34977864 -0.15511356 -0.49618927 -0.48712609  0.74475472\n",
            "  0.1645878   0.79641038]\n",
            "datapoint 16 =  [ 0.8051959  -0.56087433  0.51364736  0.33870181  0.26096279  0.81507983\n",
            " -0.86779205 -0.10317909]\n",
            "datapoint 17 =  [ 0.76479457 -0.50570174 -0.92431407  0.02359376 -0.80406374  0.68290363\n",
            "  0.86128216 -0.68798366]\n",
            "datapoint 18 =  [-0.95587595  0.60934507 -0.20657887  0.43145747  0.08446723 -0.41596103\n",
            "  0.55880653  0.77896971]\n",
            "datapoint 19 =  [ 0.64770982 -0.29991361  0.82842247  0.14212653  0.71394665  0.69976438\n",
            " -0.21522654  0.67496261]\n"
          ]
        }
      ],
      "source": [
        "# eigen values are needed here\n",
        "# we have a similar example regarding PCA with the code specifying the use of only numpy\n",
        "import numpy as np\n",
        "np.random.seed(seed=1111)\n",
        "# In this code, we show how to use PCA...\n",
        "# Generate some dataset... \n",
        "\n",
        "number_of_data_points = 20\n",
        "number_of_features_per_data_point = 8\n",
        "\n",
        "# stack the data into some list\n",
        "data = np.zeros(shape=(number_of_data_points,number_of_features_per_data_point))\n",
        "for data_index in range(number_of_data_points):\n",
        "  data_point = np.random.normal(loc=(0,0), scale = 0.1,   size=(number_of_features_per_data_point,2)) \n",
        "  data_point = np.random.uniform(low = -1, high = 1, size=(number_of_features_per_data_point))\n",
        "  print(\"datapoint {} = \".format(data_index),data_point)\n",
        "  data[data_index,:] = data_point"
      ]
    },
    {
      "cell_type": "code",
      "source": [
        "X_bar = np.mean(data,axis=0)\n",
        "print(\"X bar = \", X_bar)\n",
        "print(\"X bar is of size {}, which is equal to the number of features for each data point, {}\".format((X_bar.shape),number_of_features_per_data_point))"
      ],
      "metadata": {
        "colab": {
          "base_uri": "https://localhost:8080/"
        },
        "id": "w8S2pMf_VQDM",
        "outputId": "bc4d3229-00f9-4bec-831b-e1ae956ace41"
      },
      "execution_count": 20,
      "outputs": [
        {
          "output_type": "stream",
          "name": "stdout",
          "text": [
            "X bar =  [-0.08338448 -0.02253193  0.03884116  0.03060223 -0.06169549  0.2299217\n",
            "  0.00794119  0.09258652]\n",
            "X bar is of size (8,), which is equal to the number of features for each data point, 8\n"
          ]
        }
      ]
    },
    {
      "cell_type": "code",
      "source": [
        "print(\"The covariance of the data is size {} X {}.\".format(number_of_data_points,number_of_data_points))\n",
        "# For each row in the data matrix, we subtract the datapoint vector with the mean vector X_bar and save it in a data matrix\n",
        "\n",
        "data_matrix_minus_mean = np.zeros(shape=(number_of_data_points,number_of_features_per_data_point))\n",
        "for data_index in range(number_of_data_points):\n",
        "  data_matrix_minus_mean[data_index,:] = data[data_index,:] - X_bar\n",
        "print(data_matrix_minus_mean)"
      ],
      "metadata": {
        "colab": {
          "base_uri": "https://localhost:8080/"
        },
        "id": "2EQu1jz5VUhs",
        "outputId": "7e405406-a166-412e-ee71-91158ec73173"
      },
      "execution_count": 21,
      "outputs": [
        {
          "output_type": "stream",
          "name": "stdout",
          "text": [
            "The covariance of the data is size 20 X 20.\n",
            "[[ 0.36167482  0.29728106  0.18290743  0.82943487  0.69469532  0.30892815\n",
            "  -0.83713934  0.23741893]\n",
            " [-0.28622903  0.0735889   0.25285761  0.47068872 -0.82624993  0.51849004\n",
            "  -0.30047112  0.51627485]\n",
            " [-0.81706777  0.00245456 -0.0244733  -0.27574467 -0.49933928  0.29880316\n",
            "   0.19777132  0.30500362]\n",
            " [-0.12913013 -0.21876881 -0.05032858  0.63124853 -0.70345604 -0.91155178\n",
            "   0.14906229 -0.53967531]\n",
            " [-0.34364507  0.25887148 -0.52141723 -0.78169952  0.83315115  0.26839244\n",
            "   0.02610014 -0.8443031 ]\n",
            " [-0.11369083 -0.88501309 -0.18275916  0.43725323  0.74833418 -0.43275862\n",
            "   0.62793634 -0.92352328]\n",
            " [-0.48981204  0.12756873 -0.37065764 -0.30544915  0.37175359  0.16565624\n",
            "   0.20107309  0.83334629]\n",
            " [-0.91351007  0.15833547 -0.74465522 -0.16281821  0.75846203 -0.97649527\n",
            "   0.15243566 -0.42652565]\n",
            " [-0.18524245  0.43267892  0.92020065 -0.25730416  0.09314918  0.53793531\n",
            "   0.34543923 -0.22122222]\n",
            " [ 0.84770591  0.05685375  0.69477725 -0.61291736 -0.70848781 -0.09378109\n",
            "   0.51535898 -0.10313204]\n",
            " [-0.34530575 -0.30825862 -0.61307183 -0.1999837  -0.70103357 -0.18644791\n",
            "  -0.80547969  0.42422034]\n",
            " [ 0.29062505 -0.2573627   0.58708823  0.6593813   0.68640704  0.59355389\n",
            "   0.7234035  -0.46427027]\n",
            " [ 0.78338322  0.45304968  0.80825543 -0.74066196  0.21885492 -0.80276856\n",
            "  -0.8190912  -0.23413402]\n",
            " [-0.41270526 -0.77291754  0.04852997  0.6640257  -0.39627284  0.05475493\n",
            "  -0.73073473 -0.37991487]\n",
            " [ 0.04784138  0.8763445  -0.84911115 -0.64213279 -0.6466322  -0.71964393\n",
            "   0.09238358  0.82418939]\n",
            " [ 0.10974575  0.37231057 -0.19395472 -0.5267915  -0.42543061  0.51483301\n",
            "   0.15664661  0.70382386]\n",
            " [ 0.88858038 -0.5383424   0.47480621  0.30809958  0.32265828  0.58515813\n",
            "  -0.87573324 -0.19576562]\n",
            " [ 0.84817905 -0.4831698  -0.96315523 -0.00700846 -0.74236825  0.45298192\n",
            "   0.85334097 -0.78057018]\n",
            " [-0.87249147  0.631877   -0.24542003  0.40085524  0.14616272 -0.64588274\n",
            "   0.55086534  0.68638318]\n",
            " [ 0.73109431 -0.27738167  0.78958132  0.1115243   0.77564214  0.46984267\n",
            "  -0.22316773  0.58237609]]\n"
          ]
        }
      ]
    },
    {
      "cell_type": "code",
      "source": [
        "# Now, for each vector in data_matrix_minus_mean, we compute the outer product matrix \n",
        "matricies_list = []\n",
        "for data_index in range(number_of_data_points):\n",
        "  outer_product_matrix = np.outer(data_matrix_minus_mean[data_index,:],data_matrix_minus_mean[data_index,:])\n",
        "  matricies_list.append(outer_product_matrix)\n",
        "\n",
        "Covariance_matrix = np.array ( (1/number_of_data_points) * sum(matricies_list) )\n",
        "\n",
        "print((Covariance_matrix))"
      ],
      "metadata": {
        "colab": {
          "base_uri": "https://localhost:8080/"
        },
        "id": "wd_GNRT8Ve2T",
        "outputId": "d4ff879e-5b25-466a-ed9e-7208646551b0"
      },
      "execution_count": 22,
      "outputs": [
        {
          "output_type": "stream",
          "name": "stdout",
          "text": [
            "[[ 0.3331067  -0.04843332  0.141523   -0.01640458 -0.00410445  0.09221445\n",
            "  -0.04355394 -0.05558779]\n",
            " [-0.04843332  0.20468456 -0.01154686 -0.11568229 -0.00993335 -0.0568021\n",
            "   0.01203501  0.13393241]\n",
            " [ 0.141523   -0.01154686  0.31993662  0.04393334  0.06761247  0.09798757\n",
            "  -0.06594135 -0.00451158]\n",
            " [-0.01640458 -0.11568229  0.04393334  0.25850874  0.0393357   0.03460061\n",
            "  -0.02476153 -0.04391112]\n",
            " [-0.00410445 -0.00993335  0.06761247  0.0393357   0.37162913  0.0162557\n",
            "  -0.00756647 -0.08354368]\n",
            " [ 0.09221445 -0.0568021   0.09798757  0.03460061  0.0162557   0.29129558\n",
            "  -0.00546358  0.02431322]\n",
            " [-0.04355394  0.01203501 -0.06594135 -0.02476153 -0.00756647 -0.00546358\n",
            "   0.29772082 -0.06356306]\n",
            " [-0.05558779  0.13393241 -0.00451158 -0.04391112 -0.08354368  0.02431322\n",
            "  -0.06356306  0.32180553]]\n"
          ]
        }
      ]
    },
    {
      "cell_type": "code",
      "source": [
        "# Next, we get the highest eigenvalues and eigenvectors to construct the PCA weights matrix\n",
        "\n",
        "number_of_reduced_features = 1\n",
        "\n",
        "eig_values, eig_vectors = np.linalg.eig(Covariance_matrix)\n",
        "print(\"eig_values = \", eig_values)\n",
        "print(\"eig_vectors = \", eig_vectors)\n"
      ],
      "metadata": {
        "colab": {
          "base_uri": "https://localhost:8080/"
        },
        "id": "u4Bic-LiVwhq",
        "outputId": "6b81146a-bbfa-4645-fd0f-444280b9ec66"
      },
      "execution_count": 43,
      "outputs": [
        {
          "output_type": "stream",
          "name": "stdout",
          "text": [
            "eig_values =  [0.61803132 0.47013    0.05959477 0.12726081 0.18347523 0.35592351\n",
            " 0.26949377 0.31477827]\n",
            "eig_vectors =  [[-0.48652509  0.28566653  0.05088499  0.58517918  0.10676088 -0.31552012\n",
            "   0.29186064  0.37487406]\n",
            " [ 0.30145723  0.28643548  0.7666657   0.04952476 -0.17408062  0.31434286\n",
            "  -0.02740756  0.32708192]\n",
            " [-0.51106336  0.30981087 -0.1539445  -0.39590058 -0.64672689  0.18565412\n",
            "  -0.0207514   0.09613296]\n",
            " [-0.25415095 -0.22796079  0.35710454  0.42512708 -0.35034731 -0.02058397\n",
            "  -0.1757551  -0.64894353]\n",
            " [-0.31491517 -0.36770012 -0.11328138  0.21604044  0.22458055  0.77643123\n",
            "  -0.09187922  0.21070177]\n",
            " [-0.36600317  0.24200253  0.22765561 -0.24037435  0.47351472 -0.13867199\n",
            "  -0.67274268 -0.04290368]\n",
            " [ 0.1568519  -0.35359235 -0.14431442  0.20986976 -0.37545669 -0.27516649\n",
            "  -0.57502506  0.48801621]\n",
            " [ 0.29817112  0.6079509  -0.41584307  0.41127085 -0.04097312  0.26258807\n",
            "  -0.30177374 -0.19422109]]\n"
          ]
        }
      ]
    },
    {
      "cell_type": "code",
      "source": [
        "# Given the above eigen values and vector, we get the following W_PCA matrix\n",
        "\n",
        "W_PCA = np.zeros(shape=(number_of_reduced_features, number_of_features_per_data_point))\n",
        "\n",
        "# we pick the highest two values and their corresponding eigrn values\n",
        "W_PCA[0,:] = eig_vectors[0,:]\n",
        "W_PCA[0,:] = eig_vectors[0,:]\n",
        "\n",
        "print(\"The PCA matrix = \\n\", W_PCA)"
      ],
      "metadata": {
        "colab": {
          "base_uri": "https://localhost:8080/"
        },
        "id": "h2_xQDtedclq",
        "outputId": "a22ce122-725a-4eff-8021-ee457bcbf8b5"
      },
      "execution_count": 44,
      "outputs": [
        {
          "output_type": "stream",
          "name": "stdout",
          "text": [
            "The PCA matrix = \n",
            " [[-0.48652509  0.28566653  0.05088499  0.58517918  0.10676088 -0.31552012\n",
            "   0.29186064  0.37487406]]\n"
          ]
        }
      ]
    },
    {
      "cell_type": "code",
      "source": [
        "# Next, for each data point, we get the reduced vector z...\n",
        "\n",
        "reduced_data = np.zeros(shape=(number_of_data_points,2))\n",
        "\n",
        "for data_index in range(number_of_data_points):\n",
        "  reduced_data[data_index,:] = np.matmul(W_PCA, data[data_index,:])\n",
        "\n",
        "print(\"The reduced matrix = \", reduced_data)"
      ],
      "metadata": {
        "colab": {
          "base_uri": "https://localhost:8080/"
        },
        "id": "xr5kYBMvdb58",
        "outputId": "82ba7f37-b597-4638-f640-6749802f6b3d"
      },
      "execution_count": 45,
      "outputs": [
        {
          "output_type": "stream",
          "name": "stdout",
          "text": [
            "The reduced matrix =  [[ 0.23691271  0.23691271]\n",
            " [ 0.31453119  0.31453119]\n",
            " [ 0.27200175  0.27200175]\n",
            " [ 0.4327798   0.4327798 ]\n",
            " [-0.53553806 -0.53553806]\n",
            " [ 0.11447912  0.11447912]\n",
            " [ 0.44756132  0.44756132]\n",
            " [ 0.64209233  0.64209233]\n",
            " [-0.02000207 -0.02000207]\n",
            " [-0.64188854 -0.64188854]\n",
            " [-0.14844456 -0.14844456]\n",
            " [ 0.1358179   0.1358179 ]\n",
            " [-0.68227216 -0.68227216]\n",
            " [-0.03232675 -0.03232675]\n",
            " [ 0.31396465  0.31396465]\n",
            " [-0.15155876 -0.15155876]\n",
            " [-0.84889982 -0.84889982]\n",
            " [-0.85762618 -0.85762618]\n",
            " [ 1.47646632  1.47646632]\n",
            " [-0.22983696 -0.22983696]]\n"
          ]
        }
      ]
    },
    {
      "cell_type": "code",
      "source": [
        "# Next, we get the highest eigenvalues and eigenvectors to construct the PCA weights matrix\n",
        "\n",
        "number_of_reduced_features = 2\n",
        "\n",
        "eig_values, eig_vectors = np.linalg.eig(Covariance_matrix)\n",
        "print(\"eig_values = \", eig_values)\n",
        "print(\"eig_vectors = \", eig_vectors)\n"
      ],
      "metadata": {
        "colab": {
          "base_uri": "https://localhost:8080/"
        },
        "outputId": "c3cf96be-d6ce-48d2-b591-702cd7fbe5d5",
        "id": "DvXKprXDanrq"
      },
      "execution_count": 53,
      "outputs": [
        {
          "output_type": "stream",
          "name": "stdout",
          "text": [
            "eig_values =  [0.61803132 0.47013    0.05959477 0.12726081 0.18347523 0.35592351\n",
            " 0.26949377 0.31477827]\n",
            "eig_vectors =  [[-0.48652509  0.28566653  0.05088499  0.58517918  0.10676088 -0.31552012\n",
            "   0.29186064  0.37487406]\n",
            " [ 0.30145723  0.28643548  0.7666657   0.04952476 -0.17408062  0.31434286\n",
            "  -0.02740756  0.32708192]\n",
            " [-0.51106336  0.30981087 -0.1539445  -0.39590058 -0.64672689  0.18565412\n",
            "  -0.0207514   0.09613296]\n",
            " [-0.25415095 -0.22796079  0.35710454  0.42512708 -0.35034731 -0.02058397\n",
            "  -0.1757551  -0.64894353]\n",
            " [-0.31491517 -0.36770012 -0.11328138  0.21604044  0.22458055  0.77643123\n",
            "  -0.09187922  0.21070177]\n",
            " [-0.36600317  0.24200253  0.22765561 -0.24037435  0.47351472 -0.13867199\n",
            "  -0.67274268 -0.04290368]\n",
            " [ 0.1568519  -0.35359235 -0.14431442  0.20986976 -0.37545669 -0.27516649\n",
            "  -0.57502506  0.48801621]\n",
            " [ 0.29817112  0.6079509  -0.41584307  0.41127085 -0.04097312  0.26258807\n",
            "  -0.30177374 -0.19422109]]\n"
          ]
        }
      ]
    },
    {
      "cell_type": "code",
      "source": [
        "# Given the above eigen values and vector, we get the following W_PCA matrix\n",
        "\n",
        "W_PCA = np.zeros(shape=(number_of_reduced_features, number_of_features_per_data_point))\n",
        "\n",
        "# we pick the highest two values and their corresponding eigrn values\n",
        "W_PCA[0,:] = eig_vectors[0,:]\n",
        "W_PCA[1,:] = eig_vectors[1,:]\n",
        "\n",
        "print(\"The PCA matrix = \\n\", W_PCA)"
      ],
      "metadata": {
        "colab": {
          "base_uri": "https://localhost:8080/"
        },
        "id": "rtofY-AkdpYa",
        "outputId": "50d800a3-bcac-4bc5-f44a-b8092eaf5cb3"
      },
      "execution_count": 54,
      "outputs": [
        {
          "output_type": "stream",
          "name": "stdout",
          "text": [
            "The PCA matrix = \n",
            " [[-0.48652509  0.28566653  0.05088499  0.58517918  0.10676088 -0.31552012\n",
            "   0.29186064  0.37487406]\n",
            " [ 0.30145723  0.28643548  0.7666657   0.04952476 -0.17408062  0.31434286\n",
            "  -0.02740756  0.32708192]]\n"
          ]
        }
      ]
    },
    {
      "cell_type": "code",
      "source": [
        "# Next, for each data point, we get the reduced vector z...\n",
        "\n",
        "reduced_data = np.zeros(shape=(number_of_data_points,2))\n",
        "\n",
        "for data_index in range(number_of_data_points):\n",
        "  reduced_data[data_index,:] = np.matmul(W_PCA, data[data_index,:])\n",
        "\n",
        "print(\"The reduced matrix = \", reduced_data)"
      ],
      "metadata": {
        "colab": {
          "base_uri": "https://localhost:8080/"
        },
        "id": "BaTK1nd0eDRY",
        "outputId": "8fa44c3b-63e0-491c-d083-5b03b31f9e84"
      },
      "execution_count": 55,
      "outputs": [
        {
          "output_type": "stream",
          "name": "stdout",
          "text": [
            "The reduced matrix =  [[ 0.23691271  0.56504641]\n",
            " [ 0.31453119  0.74866067]\n",
            " [ 0.27200175  0.10994865]\n",
            " [ 0.4327798  -0.34081541]\n",
            " [-0.53553806 -0.69266743]\n",
            " [ 0.11447912 -0.87903251]\n",
            " [ 0.44756132 -0.04321272]\n",
            " [ 0.64209233 -1.27888813]\n",
            " [-0.02000207  0.9446734 ]\n",
            " [-0.64188854  0.93291945]\n",
            " [-0.14844456 -0.33527467]\n",
            " [ 0.1358179   0.50484037]\n",
            " [-0.68227216  0.71711488]\n",
            " [-0.03232675 -0.18096948]\n",
            " [ 0.31396465 -0.15116803]\n",
            " [-0.15155876  0.53952993]\n",
            " [-0.84889982  0.69346977]\n",
            " [-0.85762618 -0.51576434]\n",
            " [ 1.47646632 -0.15661389]\n",
            " [-0.22983696  1.07386135]]\n"
          ]
        }
      ]
    },
    {
      "cell_type": "code",
      "source": [
        "# Next, we get the highest eigenvalues and eigenvectors to construct the PCA weights matrix\n",
        "\n",
        "number_of_reduced_features = 3\n",
        "\n",
        "eig_values, eig_vectors = np.linalg.eig(Covariance_matrix)\n",
        "print(\"eig_values = \", eig_values)\n",
        "print(\"eig_vectors = \", eig_vectors)\n"
      ],
      "metadata": {
        "colab": {
          "base_uri": "https://localhost:8080/"
        },
        "outputId": "ee5a6465-bfef-46f6-afdd-09b3fd47bf06",
        "id": "YJv4aRSOasnE"
      },
      "execution_count": 68,
      "outputs": [
        {
          "output_type": "stream",
          "name": "stdout",
          "text": [
            "eig_values =  [0.61803132 0.47013    0.05959477 0.12726081 0.18347523 0.35592351\n",
            " 0.26949377 0.31477827]\n",
            "eig_vectors =  [[-0.48652509  0.28566653  0.05088499  0.58517918  0.10676088 -0.31552012\n",
            "   0.29186064  0.37487406]\n",
            " [ 0.30145723  0.28643548  0.7666657   0.04952476 -0.17408062  0.31434286\n",
            "  -0.02740756  0.32708192]\n",
            " [-0.51106336  0.30981087 -0.1539445  -0.39590058 -0.64672689  0.18565412\n",
            "  -0.0207514   0.09613296]\n",
            " [-0.25415095 -0.22796079  0.35710454  0.42512708 -0.35034731 -0.02058397\n",
            "  -0.1757551  -0.64894353]\n",
            " [-0.31491517 -0.36770012 -0.11328138  0.21604044  0.22458055  0.77643123\n",
            "  -0.09187922  0.21070177]\n",
            " [-0.36600317  0.24200253  0.22765561 -0.24037435  0.47351472 -0.13867199\n",
            "  -0.67274268 -0.04290368]\n",
            " [ 0.1568519  -0.35359235 -0.14431442  0.20986976 -0.37545669 -0.27516649\n",
            "  -0.57502506  0.48801621]\n",
            " [ 0.29817112  0.6079509  -0.41584307  0.41127085 -0.04097312  0.26258807\n",
            "  -0.30177374 -0.19422109]]\n"
          ]
        }
      ]
    },
    {
      "cell_type": "code",
      "source": [
        "# Given the above eigen values and vector, we get the following W_PCA matrix\n",
        "\n",
        "W_PCA = np.zeros(shape=(number_of_reduced_features, number_of_features_per_data_point))\n",
        "\n",
        "# we pick the highest two values and their corresponding eigrn values\n",
        "W_PCA[0,:] = eig_vectors[0,:]\n",
        "W_PCA[2,:] = eig_vectors[2,:]\n",
        "\n",
        "print(\"The PCA matrix = \\n\", W_PCA)"
      ],
      "metadata": {
        "colab": {
          "base_uri": "https://localhost:8080/"
        },
        "id": "ScQa5zKQV1YR",
        "outputId": "e6bfc827-9d46-4c9d-f9d4-756ec1e538a1"
      },
      "execution_count": 75,
      "outputs": [
        {
          "output_type": "stream",
          "name": "stdout",
          "text": [
            "The PCA matrix = \n",
            " [[-0.48652509  0.28566653  0.05088499  0.58517918  0.10676088 -0.31552012\n",
            "   0.29186064  0.37487406]\n",
            " [ 0.          0.          0.          0.          0.          0.\n",
            "   0.          0.        ]\n",
            " [-0.51106336  0.30981087 -0.1539445  -0.39590058 -0.64672689  0.18565412\n",
            "  -0.0207514   0.09613296]]\n"
          ]
        }
      ]
    },
    {
      "cell_type": "code",
      "source": [
        "# Next, for each data point, we get the reduced vector z...\n",
        "\n",
        "reduced_data = np.zeros(shape=(number_of_data_points,2))\n",
        "\n",
        "for data_index in range(number_of_data_points):\n",
        "  reduced_data[data_index,:] = np.matmul(W_PCA, data[data_index,:])\n",
        "\n",
        "print(\"The reduced matrix = \", reduced_data)"
      ],
      "metadata": {
        "colab": {
          "base_uri": "https://localhost:8080/",
          "height": 241
        },
        "id": "3G2PMQt3V3LJ",
        "outputId": "9a33dc47-b0dc-4711-d764-d250ccc28b27"
      },
      "execution_count": 76,
      "outputs": [
        {
          "output_type": "error",
          "ename": "ValueError",
          "evalue": "ignored",
          "traceback": [
            "\u001b[0;31m---------------------------------------------------------------------------\u001b[0m",
            "\u001b[0;31mValueError\u001b[0m                                Traceback (most recent call last)",
            "\u001b[0;32m<ipython-input-76-c89a15c0120b>\u001b[0m in \u001b[0;36m<module>\u001b[0;34m\u001b[0m\n\u001b[1;32m      4\u001b[0m \u001b[0;34m\u001b[0m\u001b[0m\n\u001b[1;32m      5\u001b[0m \u001b[0;32mfor\u001b[0m \u001b[0mdata_index\u001b[0m \u001b[0;32min\u001b[0m \u001b[0mrange\u001b[0m\u001b[0;34m(\u001b[0m\u001b[0mnumber_of_data_points\u001b[0m\u001b[0;34m)\u001b[0m\u001b[0;34m:\u001b[0m\u001b[0;34m\u001b[0m\u001b[0;34m\u001b[0m\u001b[0m\n\u001b[0;32m----> 6\u001b[0;31m   \u001b[0mreduced_data\u001b[0m\u001b[0;34m[\u001b[0m\u001b[0mdata_index\u001b[0m\u001b[0;34m,\u001b[0m\u001b[0;34m:\u001b[0m\u001b[0;34m]\u001b[0m \u001b[0;34m=\u001b[0m \u001b[0mnp\u001b[0m\u001b[0;34m.\u001b[0m\u001b[0mmatmul\u001b[0m\u001b[0;34m(\u001b[0m\u001b[0mW_PCA\u001b[0m\u001b[0;34m,\u001b[0m \u001b[0mdata\u001b[0m\u001b[0;34m[\u001b[0m\u001b[0mdata_index\u001b[0m\u001b[0;34m,\u001b[0m\u001b[0;34m:\u001b[0m\u001b[0;34m]\u001b[0m\u001b[0;34m)\u001b[0m\u001b[0;34m\u001b[0m\u001b[0;34m\u001b[0m\u001b[0m\n\u001b[0m\u001b[1;32m      7\u001b[0m \u001b[0;34m\u001b[0m\u001b[0m\n\u001b[1;32m      8\u001b[0m \u001b[0mprint\u001b[0m\u001b[0;34m(\u001b[0m\u001b[0;34m\"The reduced matrix = \"\u001b[0m\u001b[0;34m,\u001b[0m \u001b[0mreduced_data\u001b[0m\u001b[0;34m)\u001b[0m\u001b[0;34m\u001b[0m\u001b[0;34m\u001b[0m\u001b[0m\n",
            "\u001b[0;31mValueError\u001b[0m: could not broadcast input array from shape (3,) into shape (2,)"
          ]
        }
      ]
    }
  ]
}